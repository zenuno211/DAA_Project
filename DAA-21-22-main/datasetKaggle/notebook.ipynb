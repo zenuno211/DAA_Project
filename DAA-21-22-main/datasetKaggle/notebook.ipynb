{
 "cells": [
  {
   "cell_type": "code",
   "execution_count": 263,
   "metadata": {},
   "outputs": [],
   "source": [
    "import seaborn as sns\n",
    "import matplotlib.pyplot as plt\n",
    "import pandas as pd\n",
    "import numpy as np\n",
    "from sklearn.model_selection import train_test_split\n",
    "from sklearn.svm import SVC\n",
    "from sklearn.model_selection import GridSearchCV\n",
    "%matplotlib inline"
   ]
  },
  {
   "cell_type": "code",
   "execution_count": 264,
   "metadata": {},
   "outputs": [],
   "source": [
    "training_df = pd.read_csv('training_data.csv', encoding='latin-1')\n",
    "test_data = pd.read_csv('test_data.csv', encoding='latin-1')\n",
    "\n",
    "p_outcome = ['None','Medium','Low','High''Very_High']"
   ]
  },
  {
   "cell_type": "code",
   "execution_count": 265,
   "metadata": {},
   "outputs": [
    {
     "data": {
      "text/html": [
       "<div>\n",
       "<style scoped>\n",
       "    .dataframe tbody tr th:only-of-type {\n",
       "        vertical-align: middle;\n",
       "    }\n",
       "\n",
       "    .dataframe tbody tr th {\n",
       "        vertical-align: top;\n",
       "    }\n",
       "\n",
       "    .dataframe thead th {\n",
       "        text-align: right;\n",
       "    }\n",
       "</style>\n",
       "<table border=\"1\" class=\"dataframe\">\n",
       "  <thead>\n",
       "    <tr style=\"text-align: right;\">\n",
       "      <th></th>\n",
       "      <th>city_name</th>\n",
       "      <th>record_date</th>\n",
       "      <th>AVERAGE_SPEED_DIFF</th>\n",
       "      <th>AVERAGE_FREE_FLOW_SPEED</th>\n",
       "      <th>AVERAGE_TIME_DIFF</th>\n",
       "      <th>AVERAGE_FREE_FLOW_TIME</th>\n",
       "      <th>LUMINOSITY</th>\n",
       "      <th>AVERAGE_TEMPERATURE</th>\n",
       "      <th>AVERAGE_ATMOSP_PRESSURE</th>\n",
       "      <th>AVERAGE_HUMIDITY</th>\n",
       "      <th>AVERAGE_WIND_SPEED</th>\n",
       "      <th>AVERAGE_CLOUDINESS</th>\n",
       "      <th>AVERAGE_PRECIPITATION</th>\n",
       "      <th>AVERAGE_RAIN</th>\n",
       "    </tr>\n",
       "  </thead>\n",
       "  <tbody>\n",
       "    <tr>\n",
       "      <th>0</th>\n",
       "      <td>Porto</td>\n",
       "      <td>2019-08-29 07:00:00</td>\n",
       "      <td>Medium</td>\n",
       "      <td>41.5</td>\n",
       "      <td>11.5</td>\n",
       "      <td>71.4</td>\n",
       "      <td>LIGHT</td>\n",
       "      <td>15.0</td>\n",
       "      <td>1019.0</td>\n",
       "      <td>100.0</td>\n",
       "      <td>3.0</td>\n",
       "      <td>NaN</td>\n",
       "      <td>0.0</td>\n",
       "      <td>NaN</td>\n",
       "    </tr>\n",
       "    <tr>\n",
       "      <th>1</th>\n",
       "      <td>Porto</td>\n",
       "      <td>2018-08-10 14:00:00</td>\n",
       "      <td>High</td>\n",
       "      <td>41.7</td>\n",
       "      <td>48.3</td>\n",
       "      <td>87.4</td>\n",
       "      <td>LIGHT</td>\n",
       "      <td>21.0</td>\n",
       "      <td>1021.0</td>\n",
       "      <td>53.0</td>\n",
       "      <td>5.0</td>\n",
       "      <td>céu claro</td>\n",
       "      <td>0.0</td>\n",
       "      <td>NaN</td>\n",
       "    </tr>\n",
       "    <tr>\n",
       "      <th>2</th>\n",
       "      <td>Porto</td>\n",
       "      <td>2019-09-01 16:00:00</td>\n",
       "      <td>High</td>\n",
       "      <td>38.6</td>\n",
       "      <td>38.4</td>\n",
       "      <td>85.2</td>\n",
       "      <td>LIGHT</td>\n",
       "      <td>26.0</td>\n",
       "      <td>1014.0</td>\n",
       "      <td>61.0</td>\n",
       "      <td>4.0</td>\n",
       "      <td>NaN</td>\n",
       "      <td>0.0</td>\n",
       "      <td>NaN</td>\n",
       "    </tr>\n",
       "    <tr>\n",
       "      <th>3</th>\n",
       "      <td>Porto</td>\n",
       "      <td>2019-02-26 11:00:00</td>\n",
       "      <td>High</td>\n",
       "      <td>37.4</td>\n",
       "      <td>61.0</td>\n",
       "      <td>94.1</td>\n",
       "      <td>LIGHT</td>\n",
       "      <td>18.0</td>\n",
       "      <td>1025.0</td>\n",
       "      <td>48.0</td>\n",
       "      <td>4.0</td>\n",
       "      <td>céu claro</td>\n",
       "      <td>0.0</td>\n",
       "      <td>NaN</td>\n",
       "    </tr>\n",
       "    <tr>\n",
       "      <th>4</th>\n",
       "      <td>Porto</td>\n",
       "      <td>2019-06-06 12:00:00</td>\n",
       "      <td>Medium</td>\n",
       "      <td>41.6</td>\n",
       "      <td>50.4</td>\n",
       "      <td>77.0</td>\n",
       "      <td>LIGHT</td>\n",
       "      <td>15.0</td>\n",
       "      <td>1008.0</td>\n",
       "      <td>82.0</td>\n",
       "      <td>10.0</td>\n",
       "      <td>NaN</td>\n",
       "      <td>0.0</td>\n",
       "      <td>NaN</td>\n",
       "    </tr>\n",
       "    <tr>\n",
       "      <th>...</th>\n",
       "      <td>...</td>\n",
       "      <td>...</td>\n",
       "      <td>...</td>\n",
       "      <td>...</td>\n",
       "      <td>...</td>\n",
       "      <td>...</td>\n",
       "      <td>...</td>\n",
       "      <td>...</td>\n",
       "      <td>...</td>\n",
       "      <td>...</td>\n",
       "      <td>...</td>\n",
       "      <td>...</td>\n",
       "      <td>...</td>\n",
       "      <td>...</td>\n",
       "    </tr>\n",
       "    <tr>\n",
       "      <th>6807</th>\n",
       "      <td>Porto</td>\n",
       "      <td>2019-02-23 09:00:00</td>\n",
       "      <td>Low</td>\n",
       "      <td>41.2</td>\n",
       "      <td>3.7</td>\n",
       "      <td>86.9</td>\n",
       "      <td>LIGHT</td>\n",
       "      <td>9.0</td>\n",
       "      <td>1030.0</td>\n",
       "      <td>71.0</td>\n",
       "      <td>4.0</td>\n",
       "      <td>céu claro</td>\n",
       "      <td>0.0</td>\n",
       "      <td>NaN</td>\n",
       "    </tr>\n",
       "    <tr>\n",
       "      <th>6808</th>\n",
       "      <td>Porto</td>\n",
       "      <td>2019-06-08 18:00:00</td>\n",
       "      <td>Medium</td>\n",
       "      <td>38.9</td>\n",
       "      <td>51.9</td>\n",
       "      <td>76.9</td>\n",
       "      <td>LIGHT</td>\n",
       "      <td>17.0</td>\n",
       "      <td>1020.0</td>\n",
       "      <td>63.0</td>\n",
       "      <td>6.0</td>\n",
       "      <td>NaN</td>\n",
       "      <td>0.0</td>\n",
       "      <td>NaN</td>\n",
       "    </tr>\n",
       "    <tr>\n",
       "      <th>6809</th>\n",
       "      <td>Porto</td>\n",
       "      <td>2018-10-02 04:00:00</td>\n",
       "      <td>None</td>\n",
       "      <td>39.6</td>\n",
       "      <td>0.0</td>\n",
       "      <td>89.1</td>\n",
       "      <td>DARK</td>\n",
       "      <td>15.0</td>\n",
       "      <td>1020.0</td>\n",
       "      <td>39.0</td>\n",
       "      <td>4.0</td>\n",
       "      <td>céu claro</td>\n",
       "      <td>0.0</td>\n",
       "      <td>NaN</td>\n",
       "    </tr>\n",
       "    <tr>\n",
       "      <th>6810</th>\n",
       "      <td>Porto</td>\n",
       "      <td>2019-01-30 01:00:00</td>\n",
       "      <td>None</td>\n",
       "      <td>41.6</td>\n",
       "      <td>0.0</td>\n",
       "      <td>85.5</td>\n",
       "      <td>DARK</td>\n",
       "      <td>8.0</td>\n",
       "      <td>1018.0</td>\n",
       "      <td>81.0</td>\n",
       "      <td>1.0</td>\n",
       "      <td>algumas nuvens</td>\n",
       "      <td>0.0</td>\n",
       "      <td>NaN</td>\n",
       "    </tr>\n",
       "    <tr>\n",
       "      <th>6811</th>\n",
       "      <td>Porto</td>\n",
       "      <td>2019-06-15 21:00:00</td>\n",
       "      <td>Medium</td>\n",
       "      <td>41.7</td>\n",
       "      <td>32.9</td>\n",
       "      <td>78.1</td>\n",
       "      <td>DARK</td>\n",
       "      <td>15.0</td>\n",
       "      <td>1021.0</td>\n",
       "      <td>72.0</td>\n",
       "      <td>4.0</td>\n",
       "      <td>NaN</td>\n",
       "      <td>0.0</td>\n",
       "      <td>NaN</td>\n",
       "    </tr>\n",
       "  </tbody>\n",
       "</table>\n",
       "<p>6812 rows × 14 columns</p>\n",
       "</div>"
      ],
      "text/plain": [
       "     city_name          record_date AVERAGE_SPEED_DIFF  \\\n",
       "0        Porto  2019-08-29 07:00:00             Medium   \n",
       "1        Porto  2018-08-10 14:00:00               High   \n",
       "2        Porto  2019-09-01 16:00:00               High   \n",
       "3        Porto  2019-02-26 11:00:00               High   \n",
       "4        Porto  2019-06-06 12:00:00             Medium   \n",
       "...        ...                  ...                ...   \n",
       "6807     Porto  2019-02-23 09:00:00                Low   \n",
       "6808     Porto  2019-06-08 18:00:00             Medium   \n",
       "6809     Porto  2018-10-02 04:00:00               None   \n",
       "6810     Porto  2019-01-30 01:00:00               None   \n",
       "6811     Porto  2019-06-15 21:00:00             Medium   \n",
       "\n",
       "      AVERAGE_FREE_FLOW_SPEED  AVERAGE_TIME_DIFF  AVERAGE_FREE_FLOW_TIME  \\\n",
       "0                        41.5               11.5                    71.4   \n",
       "1                        41.7               48.3                    87.4   \n",
       "2                        38.6               38.4                    85.2   \n",
       "3                        37.4               61.0                    94.1   \n",
       "4                        41.6               50.4                    77.0   \n",
       "...                       ...                ...                     ...   \n",
       "6807                     41.2                3.7                    86.9   \n",
       "6808                     38.9               51.9                    76.9   \n",
       "6809                     39.6                0.0                    89.1   \n",
       "6810                     41.6                0.0                    85.5   \n",
       "6811                     41.7               32.9                    78.1   \n",
       "\n",
       "     LUMINOSITY  AVERAGE_TEMPERATURE  AVERAGE_ATMOSP_PRESSURE  \\\n",
       "0         LIGHT                 15.0                   1019.0   \n",
       "1         LIGHT                 21.0                   1021.0   \n",
       "2         LIGHT                 26.0                   1014.0   \n",
       "3         LIGHT                 18.0                   1025.0   \n",
       "4         LIGHT                 15.0                   1008.0   \n",
       "...         ...                  ...                      ...   \n",
       "6807      LIGHT                  9.0                   1030.0   \n",
       "6808      LIGHT                 17.0                   1020.0   \n",
       "6809       DARK                 15.0                   1020.0   \n",
       "6810       DARK                  8.0                   1018.0   \n",
       "6811       DARK                 15.0                   1021.0   \n",
       "\n",
       "      AVERAGE_HUMIDITY  AVERAGE_WIND_SPEED AVERAGE_CLOUDINESS  \\\n",
       "0                100.0                 3.0                NaN   \n",
       "1                 53.0                 5.0          céu claro   \n",
       "2                 61.0                 4.0                NaN   \n",
       "3                 48.0                 4.0          céu claro   \n",
       "4                 82.0                10.0                NaN   \n",
       "...                ...                 ...                ...   \n",
       "6807              71.0                 4.0          céu claro   \n",
       "6808              63.0                 6.0                NaN   \n",
       "6809              39.0                 4.0          céu claro   \n",
       "6810              81.0                 1.0     algumas nuvens   \n",
       "6811              72.0                 4.0                NaN   \n",
       "\n",
       "      AVERAGE_PRECIPITATION AVERAGE_RAIN  \n",
       "0                       0.0          NaN  \n",
       "1                       0.0          NaN  \n",
       "2                       0.0          NaN  \n",
       "3                       0.0          NaN  \n",
       "4                       0.0          NaN  \n",
       "...                     ...          ...  \n",
       "6807                    0.0          NaN  \n",
       "6808                    0.0          NaN  \n",
       "6809                    0.0          NaN  \n",
       "6810                    0.0          NaN  \n",
       "6811                    0.0          NaN  \n",
       "\n",
       "[6812 rows x 14 columns]"
      ]
     },
     "execution_count": 265,
     "metadata": {},
     "output_type": "execute_result"
    }
   ],
   "source": [
    "training_df"
   ]
  },
  {
   "cell_type": "code",
   "execution_count": 266,
   "metadata": {},
   "outputs": [
    {
     "data": {
      "text/html": [
       "<div>\n",
       "<style scoped>\n",
       "    .dataframe tbody tr th:only-of-type {\n",
       "        vertical-align: middle;\n",
       "    }\n",
       "\n",
       "    .dataframe tbody tr th {\n",
       "        vertical-align: top;\n",
       "    }\n",
       "\n",
       "    .dataframe thead th {\n",
       "        text-align: right;\n",
       "    }\n",
       "</style>\n",
       "<table border=\"1\" class=\"dataframe\">\n",
       "  <thead>\n",
       "    <tr style=\"text-align: right;\">\n",
       "      <th></th>\n",
       "      <th>city_name</th>\n",
       "      <th>record_date</th>\n",
       "      <th>AVERAGE_FREE_FLOW_SPEED</th>\n",
       "      <th>AVERAGE_TIME_DIFF</th>\n",
       "      <th>AVERAGE_FREE_FLOW_TIME</th>\n",
       "      <th>LUMINOSITY</th>\n",
       "      <th>AVERAGE_TEMPERATURE</th>\n",
       "      <th>AVERAGE_ATMOSP_PRESSURE</th>\n",
       "      <th>AVERAGE_HUMIDITY</th>\n",
       "      <th>AVERAGE_WIND_SPEED</th>\n",
       "      <th>AVERAGE_CLOUDINESS</th>\n",
       "      <th>AVERAGE_PRECIPITATION</th>\n",
       "      <th>AVERAGE_RAIN</th>\n",
       "    </tr>\n",
       "  </thead>\n",
       "  <tbody>\n",
       "    <tr>\n",
       "      <th>0</th>\n",
       "      <td>Porto</td>\n",
       "      <td>2019-02-13 23:00:00</td>\n",
       "      <td>39.2</td>\n",
       "      <td>0.0</td>\n",
       "      <td>91.0</td>\n",
       "      <td>DARK</td>\n",
       "      <td>8.0</td>\n",
       "      <td>1026.0</td>\n",
       "      <td>71.0</td>\n",
       "      <td>1.0</td>\n",
       "      <td>céu claro</td>\n",
       "      <td>0.0</td>\n",
       "      <td>NaN</td>\n",
       "    </tr>\n",
       "    <tr>\n",
       "      <th>1</th>\n",
       "      <td>Porto</td>\n",
       "      <td>2018-11-28 20:00:00</td>\n",
       "      <td>42.5</td>\n",
       "      <td>12.2</td>\n",
       "      <td>76.8</td>\n",
       "      <td>DARK</td>\n",
       "      <td>11.0</td>\n",
       "      <td>1020.0</td>\n",
       "      <td>93.0</td>\n",
       "      <td>4.0</td>\n",
       "      <td>nuvens dispersas</td>\n",
       "      <td>0.0</td>\n",
       "      <td>NaN</td>\n",
       "    </tr>\n",
       "    <tr>\n",
       "      <th>2</th>\n",
       "      <td>Porto</td>\n",
       "      <td>2018-08-14 05:00:00</td>\n",
       "      <td>45.9</td>\n",
       "      <td>0.0</td>\n",
       "      <td>86.3</td>\n",
       "      <td>DARK</td>\n",
       "      <td>14.0</td>\n",
       "      <td>1017.0</td>\n",
       "      <td>93.0</td>\n",
       "      <td>0.0</td>\n",
       "      <td>NaN</td>\n",
       "      <td>0.0</td>\n",
       "      <td>NaN</td>\n",
       "    </tr>\n",
       "    <tr>\n",
       "      <th>3</th>\n",
       "      <td>Porto</td>\n",
       "      <td>2019-07-06 17:00:00</td>\n",
       "      <td>33.2</td>\n",
       "      <td>51.7</td>\n",
       "      <td>89.9</td>\n",
       "      <td>LIGHT</td>\n",
       "      <td>22.0</td>\n",
       "      <td>1016.0</td>\n",
       "      <td>77.0</td>\n",
       "      <td>4.0</td>\n",
       "      <td>céu pouco nublado</td>\n",
       "      <td>0.0</td>\n",
       "      <td>NaN</td>\n",
       "    </tr>\n",
       "    <tr>\n",
       "      <th>4</th>\n",
       "      <td>Porto</td>\n",
       "      <td>2018-10-15 06:00:00</td>\n",
       "      <td>44.0</td>\n",
       "      <td>3.5</td>\n",
       "      <td>85.5</td>\n",
       "      <td>DARK</td>\n",
       "      <td>12.0</td>\n",
       "      <td>1004.0</td>\n",
       "      <td>100.0</td>\n",
       "      <td>9.0</td>\n",
       "      <td>NaN</td>\n",
       "      <td>0.0</td>\n",
       "      <td>chuva fraca</td>\n",
       "    </tr>\n",
       "    <tr>\n",
       "      <th>...</th>\n",
       "      <td>...</td>\n",
       "      <td>...</td>\n",
       "      <td>...</td>\n",
       "      <td>...</td>\n",
       "      <td>...</td>\n",
       "      <td>...</td>\n",
       "      <td>...</td>\n",
       "      <td>...</td>\n",
       "      <td>...</td>\n",
       "      <td>...</td>\n",
       "      <td>...</td>\n",
       "      <td>...</td>\n",
       "      <td>...</td>\n",
       "    </tr>\n",
       "    <tr>\n",
       "      <th>1495</th>\n",
       "      <td>Porto</td>\n",
       "      <td>2018-11-24 05:00:00</td>\n",
       "      <td>50.2</td>\n",
       "      <td>1.1</td>\n",
       "      <td>80.5</td>\n",
       "      <td>DARK</td>\n",
       "      <td>11.0</td>\n",
       "      <td>1013.0</td>\n",
       "      <td>100.0</td>\n",
       "      <td>5.0</td>\n",
       "      <td>NaN</td>\n",
       "      <td>0.0</td>\n",
       "      <td>chuva fraca</td>\n",
       "    </tr>\n",
       "    <tr>\n",
       "      <th>1496</th>\n",
       "      <td>Porto</td>\n",
       "      <td>2019-03-01 02:00:00</td>\n",
       "      <td>38.0</td>\n",
       "      <td>4.6</td>\n",
       "      <td>85.6</td>\n",
       "      <td>DARK</td>\n",
       "      <td>9.0</td>\n",
       "      <td>1028.0</td>\n",
       "      <td>100.0</td>\n",
       "      <td>0.0</td>\n",
       "      <td>NaN</td>\n",
       "      <td>0.0</td>\n",
       "      <td>NaN</td>\n",
       "    </tr>\n",
       "    <tr>\n",
       "      <th>1497</th>\n",
       "      <td>Porto</td>\n",
       "      <td>2018-09-05 01:00:00</td>\n",
       "      <td>43.8</td>\n",
       "      <td>0.0</td>\n",
       "      <td>80.4</td>\n",
       "      <td>DARK</td>\n",
       "      <td>16.0</td>\n",
       "      <td>1013.0</td>\n",
       "      <td>100.0</td>\n",
       "      <td>1.0</td>\n",
       "      <td>NaN</td>\n",
       "      <td>0.0</td>\n",
       "      <td>NaN</td>\n",
       "    </tr>\n",
       "    <tr>\n",
       "      <th>1498</th>\n",
       "      <td>Porto</td>\n",
       "      <td>2018-11-05 08:00:00</td>\n",
       "      <td>46.0</td>\n",
       "      <td>83.2</td>\n",
       "      <td>83.2</td>\n",
       "      <td>LIGHT</td>\n",
       "      <td>10.0</td>\n",
       "      <td>1004.0</td>\n",
       "      <td>87.0</td>\n",
       "      <td>5.0</td>\n",
       "      <td>NaN</td>\n",
       "      <td>0.0</td>\n",
       "      <td>chuva moderada</td>\n",
       "    </tr>\n",
       "    <tr>\n",
       "      <th>1499</th>\n",
       "      <td>Porto</td>\n",
       "      <td>2019-08-18 13:00:00</td>\n",
       "      <td>41.7</td>\n",
       "      <td>15.9</td>\n",
       "      <td>93.0</td>\n",
       "      <td>LIGHT</td>\n",
       "      <td>21.0</td>\n",
       "      <td>1016.0</td>\n",
       "      <td>82.0</td>\n",
       "      <td>7.0</td>\n",
       "      <td>nuvens quebradas</td>\n",
       "      <td>0.0</td>\n",
       "      <td>NaN</td>\n",
       "    </tr>\n",
       "  </tbody>\n",
       "</table>\n",
       "<p>1500 rows × 13 columns</p>\n",
       "</div>"
      ],
      "text/plain": [
       "     city_name          record_date  AVERAGE_FREE_FLOW_SPEED  \\\n",
       "0        Porto  2019-02-13 23:00:00                     39.2   \n",
       "1        Porto  2018-11-28 20:00:00                     42.5   \n",
       "2        Porto  2018-08-14 05:00:00                     45.9   \n",
       "3        Porto  2019-07-06 17:00:00                     33.2   \n",
       "4        Porto  2018-10-15 06:00:00                     44.0   \n",
       "...        ...                  ...                      ...   \n",
       "1495     Porto  2018-11-24 05:00:00                     50.2   \n",
       "1496     Porto  2019-03-01 02:00:00                     38.0   \n",
       "1497     Porto  2018-09-05 01:00:00                     43.8   \n",
       "1498     Porto  2018-11-05 08:00:00                     46.0   \n",
       "1499     Porto  2019-08-18 13:00:00                     41.7   \n",
       "\n",
       "      AVERAGE_TIME_DIFF  AVERAGE_FREE_FLOW_TIME LUMINOSITY  \\\n",
       "0                   0.0                    91.0       DARK   \n",
       "1                  12.2                    76.8       DARK   \n",
       "2                   0.0                    86.3       DARK   \n",
       "3                  51.7                    89.9      LIGHT   \n",
       "4                   3.5                    85.5       DARK   \n",
       "...                 ...                     ...        ...   \n",
       "1495                1.1                    80.5       DARK   \n",
       "1496                4.6                    85.6       DARK   \n",
       "1497                0.0                    80.4       DARK   \n",
       "1498               83.2                    83.2      LIGHT   \n",
       "1499               15.9                    93.0      LIGHT   \n",
       "\n",
       "      AVERAGE_TEMPERATURE  AVERAGE_ATMOSP_PRESSURE  AVERAGE_HUMIDITY  \\\n",
       "0                     8.0                   1026.0              71.0   \n",
       "1                    11.0                   1020.0              93.0   \n",
       "2                    14.0                   1017.0              93.0   \n",
       "3                    22.0                   1016.0              77.0   \n",
       "4                    12.0                   1004.0             100.0   \n",
       "...                   ...                      ...               ...   \n",
       "1495                 11.0                   1013.0             100.0   \n",
       "1496                  9.0                   1028.0             100.0   \n",
       "1497                 16.0                   1013.0             100.0   \n",
       "1498                 10.0                   1004.0              87.0   \n",
       "1499                 21.0                   1016.0              82.0   \n",
       "\n",
       "      AVERAGE_WIND_SPEED AVERAGE_CLOUDINESS  AVERAGE_PRECIPITATION  \\\n",
       "0                    1.0          céu claro                    0.0   \n",
       "1                    4.0   nuvens dispersas                    0.0   \n",
       "2                    0.0                NaN                    0.0   \n",
       "3                    4.0  céu pouco nublado                    0.0   \n",
       "4                    9.0                NaN                    0.0   \n",
       "...                  ...                ...                    ...   \n",
       "1495                 5.0                NaN                    0.0   \n",
       "1496                 0.0                NaN                    0.0   \n",
       "1497                 1.0                NaN                    0.0   \n",
       "1498                 5.0                NaN                    0.0   \n",
       "1499                 7.0   nuvens quebradas                    0.0   \n",
       "\n",
       "        AVERAGE_RAIN  \n",
       "0                NaN  \n",
       "1                NaN  \n",
       "2                NaN  \n",
       "3                NaN  \n",
       "4        chuva fraca  \n",
       "...              ...  \n",
       "1495     chuva fraca  \n",
       "1496             NaN  \n",
       "1497             NaN  \n",
       "1498  chuva moderada  \n",
       "1499             NaN  \n",
       "\n",
       "[1500 rows x 13 columns]"
      ]
     },
     "execution_count": 266,
     "metadata": {},
     "output_type": "execute_result"
    }
   ],
   "source": [
    "test_data"
   ]
  },
  {
   "cell_type": "code",
   "execution_count": 267,
   "metadata": {},
   "outputs": [
    {
     "data": {
      "text/plain": [
       "Porto    6812\n",
       "Name: city_name, dtype: int64"
      ]
     },
     "execution_count": 267,
     "metadata": {},
     "output_type": "execute_result"
    }
   ],
   "source": [
    "training_df['city_name'].value_counts()"
   ]
  },
  {
   "cell_type": "code",
   "execution_count": 268,
   "metadata": {},
   "outputs": [],
   "source": [
    "training_df = training_df.drop(columns='city_name')\n",
    "test_data = test_data.drop(columns='city_name')"
   ]
  },
  {
   "cell_type": "code",
   "execution_count": 269,
   "metadata": {},
   "outputs": [
    {
     "name": "stdout",
     "output_type": "stream",
     "text": [
      "<class 'pandas.core.frame.DataFrame'>\n",
      "RangeIndex: 6812 entries, 0 to 6811\n",
      "Data columns (total 13 columns):\n",
      " #   Column                   Non-Null Count  Dtype  \n",
      "---  ------                   --------------  -----  \n",
      " 0   record_date              6812 non-null   object \n",
      " 1   AVERAGE_SPEED_DIFF       6812 non-null   object \n",
      " 2   AVERAGE_FREE_FLOW_SPEED  6812 non-null   float64\n",
      " 3   AVERAGE_TIME_DIFF        6812 non-null   float64\n",
      " 4   AVERAGE_FREE_FLOW_TIME   6812 non-null   float64\n",
      " 5   LUMINOSITY               6812 non-null   object \n",
      " 6   AVERAGE_TEMPERATURE      6812 non-null   float64\n",
      " 7   AVERAGE_ATMOSP_PRESSURE  6812 non-null   float64\n",
      " 8   AVERAGE_HUMIDITY         6812 non-null   float64\n",
      " 9   AVERAGE_WIND_SPEED       6812 non-null   float64\n",
      " 10  AVERAGE_CLOUDINESS       4130 non-null   object \n",
      " 11  AVERAGE_PRECIPITATION    6812 non-null   float64\n",
      " 12  AVERAGE_RAIN             563 non-null    object \n",
      "dtypes: float64(8), object(5)\n",
      "memory usage: 692.0+ KB\n"
     ]
    }
   ],
   "source": [
    "training_df.info()"
   ]
  },
  {
   "cell_type": "code",
   "execution_count": 270,
   "metadata": {},
   "outputs": [],
   "source": [
    "training_df = training_df.drop_duplicates()"
   ]
  },
  {
   "cell_type": "code",
   "execution_count": 271,
   "metadata": {},
   "outputs": [
    {
     "data": {
      "text/plain": [
       "count    6812.000000\n",
       "mean       80.084190\n",
       "std        18.238863\n",
       "min        14.000000\n",
       "25%        69.750000\n",
       "50%        83.000000\n",
       "75%        93.000000\n",
       "max       100.000000\n",
       "Name: AVERAGE_HUMIDITY, dtype: float64"
      ]
     },
     "execution_count": 271,
     "metadata": {},
     "output_type": "execute_result"
    }
   ],
   "source": [
    "training_df['AVERAGE_HUMIDITY'].describe()"
   ]
  },
  {
   "cell_type": "code",
   "execution_count": 272,
   "metadata": {},
   "outputs": [
    {
     "data": {
      "text/plain": [
       "count    6812.000000\n",
       "mean       16.193482\n",
       "std         5.163492\n",
       "min         0.000000\n",
       "25%        13.000000\n",
       "50%        16.000000\n",
       "75%        19.000000\n",
       "max        35.000000\n",
       "Name: AVERAGE_TEMPERATURE, dtype: float64"
      ]
     },
     "execution_count": 272,
     "metadata": {},
     "output_type": "execute_result"
    }
   ],
   "source": [
    "training_df['AVERAGE_TEMPERATURE'].describe()"
   ]
  },
  {
   "cell_type": "code",
   "execution_count": 273,
   "metadata": {},
   "outputs": [
    {
     "data": {
      "text/plain": [
       "count    6812.000000\n",
       "mean       25.637111\n",
       "std        33.510507\n",
       "min         0.000000\n",
       "25%         2.275000\n",
       "50%        12.200000\n",
       "75%        36.200000\n",
       "max       296.500000\n",
       "Name: AVERAGE_TIME_DIFF, dtype: float64"
      ]
     },
     "execution_count": 273,
     "metadata": {},
     "output_type": "execute_result"
    }
   ],
   "source": [
    "training_df['AVERAGE_TIME_DIFF'].describe()"
   ]
  },
  {
   "cell_type": "code",
   "execution_count": 274,
   "metadata": {},
   "outputs": [
    {
     "data": {
      "text/plain": [
       "record_date                   0\n",
       "AVERAGE_SPEED_DIFF            0\n",
       "AVERAGE_FREE_FLOW_SPEED       0\n",
       "AVERAGE_TIME_DIFF             0\n",
       "AVERAGE_FREE_FLOW_TIME        0\n",
       "LUMINOSITY                    0\n",
       "AVERAGE_TEMPERATURE           0\n",
       "AVERAGE_ATMOSP_PRESSURE       0\n",
       "AVERAGE_HUMIDITY              0\n",
       "AVERAGE_WIND_SPEED            0\n",
       "AVERAGE_CLOUDINESS         2682\n",
       "AVERAGE_PRECIPITATION         0\n",
       "AVERAGE_RAIN               6249\n",
       "dtype: int64"
      ]
     },
     "execution_count": 274,
     "metadata": {},
     "output_type": "execute_result"
    }
   ],
   "source": [
    "training_df.isna().sum()"
   ]
  },
  {
   "cell_type": "code",
   "execution_count": 275,
   "metadata": {},
   "outputs": [
    {
     "data": {
      "text/plain": [
       "<matplotlib.axes._subplots.AxesSubplot at 0x7f17240b9e80>"
      ]
     },
     "execution_count": 275,
     "metadata": {},
     "output_type": "execute_result"
    },
    {
     "data": {
      "image/png": "[encoded data removed]",
      "text/plain": [
       "<Figure size 432x288 with 1 Axes>"
      ]
     },
     "metadata": {
      "needs_background": "light"
     },
     "output_type": "display_data"
    }
   ],
   "source": [
    "sns.boxplot(x=training_df['AVERAGE_FREE_FLOW_TIME'])"
   ]
  },
  {
   "cell_type": "code",
   "execution_count": 276,
   "metadata": {},
   "outputs": [
    {
     "data": {
      "text/plain": [
       "<matplotlib.axes._subplots.AxesSubplot at 0x7f1724395e10>"
      ]
     },
     "execution_count": 276,
     "metadata": {},
     "output_type": "execute_result"
    },
    {
     "data": {
      "image/png": "[encoded data removed]",
      "text/plain": [
       "<Figure size 432x288 with 1 Axes>"
      ]
     },
     "metadata": {
      "needs_background": "light"
     },
     "output_type": "display_data"
    }
   ],
   "source": [
    "sns.boxplot(x=training_df['AVERAGE_TIME_DIFF'])"
   ]
  },
  {
   "cell_type": "code",
   "execution_count": 277,
   "metadata": {},
   "outputs": [],
   "source": [
    "q = training_df['AVERAGE_TIME_DIFF'].quantile(0.91)\n",
    "training_df = training_df[training_df['AVERAGE_TIME_DIFF'] < q]"
   ]
  },
  {
   "cell_type": "code",
   "execution_count": 278,
   "metadata": {},
   "outputs": [
    {
     "data": {
      "text/plain": [
       "<matplotlib.axes._subplots.AxesSubplot at 0x7f172413bc88>"
      ]
     },
     "execution_count": 278,
     "metadata": {},
     "output_type": "execute_result"
    },
    {
     "data": {
      "image/png": "[encoded data removed]",
      "text/plain": [
       "<Figure size 432x288 with 1 Axes>"
      ]
     },
     "metadata": {
      "needs_background": "light"
     },
     "output_type": "display_data"
    }
   ],
   "source": [
    "sns.boxplot(x=training_df['AVERAGE_TIME_DIFF'])"
   ]
  },
  {
   "cell_type": "code",
   "execution_count": 279,
   "metadata": {},
   "outputs": [
    {
     "data": {
      "text/plain": [
       "<matplotlib.axes._subplots.AxesSubplot at 0x7f172c1ff2e8>"
      ]
     },
     "execution_count": 279,
     "metadata": {},
     "output_type": "execute_result"
    },
    {
     "data": {
      "image/png": "[encoded data removed]",
      "text/plain": [
       "<Figure size 432x288 with 1 Axes>"
      ]
     },
     "metadata": {
      "needs_background": "light"
     },
     "output_type": "display_data"
    }
   ],
   "source": [
    "sns.boxplot(x=training_df['AVERAGE_TEMPERATURE'])"
   ]
  },
  {
   "cell_type": "code",
   "execution_count": 280,
   "metadata": {},
   "outputs": [],
   "source": [
    "for x in ['AVERAGE_TEMPERATURE']:\n",
    "    \n",
    "  q1 = training_df[x].quantile(0.25)\n",
    "  q3 = training_df[x].quantile(0.75)\n",
    "  IQR = q3-q1\n",
    "  lower_limit = q1 - (IQR*1.5)\n",
    "  upper_limit = q3 + (IQR*1.5)\n",
    "  training_df.loc[training_df[x]<lower_limit, x] = lower_limit\n",
    "  training_df.loc[training_df[x]>upper_limit, x] = upper_limit\n"
   ]
  },
  {
   "cell_type": "code",
   "execution_count": 281,
   "metadata": {},
   "outputs": [
    {
     "data": {
      "text/plain": [
       "<matplotlib.axes._subplots.AxesSubplot at 0x7f17240c0908>"
      ]
     },
     "execution_count": 281,
     "metadata": {},
     "output_type": "execute_result"
    },
    {
     "data": {
      "image/png": "[encoded data removed]",
      "text/plain": [
       "<Figure size 432x288 with 1 Axes>"
      ]
     },
     "metadata": {
      "needs_background": "light"
     },
     "output_type": "display_data"
    }
   ],
   "source": [
    "sns.boxplot(x=training_df['AVERAGE_TEMPERATURE'])"
   ]
  },
  {
   "cell_type": "code",
   "execution_count": 282,
   "metadata": {},
   "outputs": [
    {
     "data": {
      "text/plain": [
       "<matplotlib.axes._subplots.AxesSubplot at 0x7f172c2885f8>"
      ]
     },
     "execution_count": 282,
     "metadata": {},
     "output_type": "execute_result"
    },
    {
     "data": {
      "image/png": "[encoded data removed]",
      "text/plain": [
       "<Figure size 432x288 with 1 Axes>"
      ]
     },
     "metadata": {
      "needs_background": "light"
     },
     "output_type": "display_data"
    }
   ],
   "source": [
    "sns.boxplot(x=training_df['AVERAGE_HUMIDITY'])"
   ]
  },
  {
   "cell_type": "code",
   "execution_count": 283,
   "metadata": {},
   "outputs": [],
   "source": [
    "for x in ['AVERAGE_HUMIDITY']:\n",
    "\n",
    "  q1 = training_df[x].quantile(0.25)\n",
    "  q3 = training_df[x].quantile(0.75)\n",
    "  IQR = q3-q1\n",
    "  lower_limit = q1 - (IQR*1.5)\n",
    "  upper_limit = q3 + (IQR*1.5)\n",
    "  training_df.loc[training_df[x]<lower_limit, x] = lower_limit\n",
    "  training_df.loc[training_df[x]>upper_limit, x] = upper_limit"
   ]
  },
  {
   "cell_type": "code",
   "execution_count": 284,
   "metadata": {},
   "outputs": [
    {
     "data": {
      "text/plain": [
       "<matplotlib.axes._subplots.AxesSubplot at 0x7f16ec729898>"
      ]
     },
     "execution_count": 284,
     "metadata": {},
     "output_type": "execute_result"
    },
    {
     "data": {
      "image/png": "[encoded data removed]",
      "text/plain": [
       "<Figure size 432x288 with 1 Axes>"
      ]
     },
     "metadata": {
      "needs_background": "light"
     },
     "output_type": "display_data"
    }
   ],
   "source": [
    "sns.boxplot(x=training_df['AVERAGE_HUMIDITY'])"
   ]
  },
  {
   "cell_type": "code",
   "execution_count": 285,
   "metadata": {},
   "outputs": [
    {
     "data": {
      "text/plain": [
       "<matplotlib.axes._subplots.AxesSubplot at 0x7f16ec63f390>"
      ]
     },
     "execution_count": 285,
     "metadata": {},
     "output_type": "execute_result"
    },
    {
     "data": {
      "image/png": "[encoded data removed]",
      "text/plain": [
       "<Figure size 432x288 with 1 Axes>"
      ]
     },
     "metadata": {
      "needs_background": "light"
     },
     "output_type": "display_data"
    }
   ],
   "source": [
    "sns.boxplot(x=training_df['AVERAGE_ATMOSP_PRESSURE'])"
   ]
  },
  {
   "cell_type": "code",
   "execution_count": 286,
   "metadata": {},
   "outputs": [],
   "source": [
    "for x in ['AVERAGE_ATMOSP_PRESSURE']:\n",
    "\n",
    "  q1 = training_df[x].quantile(0.25)\n",
    "  q3 = training_df[x].quantile(0.75)\n",
    "  IQR = q3-q1\n",
    "  lower_limit = q1 - (IQR*1.5)\n",
    "  upper_limit = q3 + (IQR*1.5)\n",
    "  training_df.loc[training_df[x]<lower_limit, x] = lower_limit\n",
    "  training_df.loc[training_df[x]>upper_limit, x] = upper_limit"
   ]
  },
  {
   "cell_type": "code",
   "execution_count": 287,
   "metadata": {},
   "outputs": [
    {
     "data": {
      "text/plain": [
       "<matplotlib.axes._subplots.AxesSubplot at 0x7f16ec614978>"
      ]
     },
     "execution_count": 287,
     "metadata": {},
     "output_type": "execute_result"
    },
    {
     "data": {
      "image/png": "[encoded data removed]",
      "text/plain": [
       "<Figure size 432x288 with 1 Axes>"
      ]
     },
     "metadata": {
      "needs_background": "light"
     },
     "output_type": "display_data"
    }
   ],
   "source": [
    "sns.boxplot(x=training_df['AVERAGE_ATMOSP_PRESSURE'])"
   ]
  },
  {
   "cell_type": "code",
   "execution_count": 288,
   "metadata": {},
   "outputs": [
    {
     "data": {
      "text/plain": [
       "<matplotlib.axes._subplots.AxesSubplot at 0x7f16ec581cf8>"
      ]
     },
     "execution_count": 288,
     "metadata": {},
     "output_type": "execute_result"
    },
    {
     "data": {
      "image/png": "[encoded data removed]",
      "text/plain": [
       "<Figure size 432x288 with 1 Axes>"
      ]
     },
     "metadata": {
      "needs_background": "light"
     },
     "output_type": "display_data"
    }
   ],
   "source": [
    "sns.boxplot(x=training_df['AVERAGE_FREE_FLOW_SPEED'])"
   ]
  },
  {
   "cell_type": "code",
   "execution_count": 289,
   "metadata": {},
   "outputs": [],
   "source": [
    "for x in ['AVERAGE_FREE_FLOW_SPEED']:\n",
    "    \n",
    "  q1 = training_df[x].quantile(0.25)\n",
    "  q3 = training_df[x].quantile(0.75)\n",
    "  IQR = q3-q1\n",
    "  lower_limit = q1 - (IQR*1.5)\n",
    "  upper_limit = q3 + (IQR*1.5)\n",
    "  training_df.loc[training_df[x]<lower_limit, x] = lower_limit\n",
    "  training_df.loc[training_df[x]>upper_limit, x] = upper_limit\n"
   ]
  },
  {
   "cell_type": "code",
   "execution_count": 290,
   "metadata": {},
   "outputs": [
    {
     "data": {
      "text/plain": [
       "<matplotlib.axes._subplots.AxesSubplot at 0x7f16ec561748>"
      ]
     },
     "execution_count": 290,
     "metadata": {},
     "output_type": "execute_result"
    },
    {
     "data": {
      "image/png": "[encoded data removed]",
      "text/plain": [
       "<Figure size 432x288 with 1 Axes>"
      ]
     },
     "metadata": {
      "needs_background": "light"
     },
     "output_type": "display_data"
    }
   ],
   "source": [
    "sns.boxplot(x=training_df['AVERAGE_FREE_FLOW_SPEED'])"
   ]
  },
  {
   "cell_type": "code",
   "execution_count": 291,
   "metadata": {},
   "outputs": [
    {
     "data": {
      "text/plain": [
       "<matplotlib.axes._subplots.AxesSubplot at 0x7f16ec536940>"
      ]
     },
     "execution_count": 291,
     "metadata": {},
     "output_type": "execute_result"
    },
    {
     "data": {
      "image/png": "[encoded data removed]",
      "text/plain": [
       "<Figure size 432x288 with 1 Axes>"
      ]
     },
     "metadata": {
      "needs_background": "light"
     },
     "output_type": "display_data"
    }
   ],
   "source": [
    "sns.boxplot(x=training_df['AVERAGE_WIND_SPEED'])"
   ]
  },
  {
   "cell_type": "code",
   "execution_count": 292,
   "metadata": {},
   "outputs": [],
   "source": [
    "for x in ['AVERAGE_WIND_SPEED']:\n",
    "    \n",
    "  q1 = training_df[x].quantile(0.25)\n",
    "  q3 = training_df[x].quantile(0.75)\n",
    "  IQR = q3-q1\n",
    "  lower_limit = q1 - (IQR*1.5)\n",
    "  upper_limit = q3 + (IQR*1.5)\n",
    "  training_df.loc[training_df[x]<lower_limit, x] = lower_limit\n",
    "  training_df.loc[training_df[x]>upper_limit, x] = upper_limit\n"
   ]
  },
  {
   "cell_type": "code",
   "execution_count": 293,
   "metadata": {},
   "outputs": [
    {
     "data": {
      "text/plain": [
       "<matplotlib.axes._subplots.AxesSubplot at 0x7f16ec48a320>"
      ]
     },
     "execution_count": 293,
     "metadata": {},
     "output_type": "execute_result"
    },
    {
     "data": {
      "image/png": "[encoded data removed]",
      "text/plain": [
       "<Figure size 432x288 with 1 Axes>"
      ]
     },
     "metadata": {
      "needs_background": "light"
     },
     "output_type": "display_data"
    }
   ],
   "source": [
    "sns.boxplot(x=training_df['AVERAGE_WIND_SPEED'])"
   ]
  },
  {
   "cell_type": "code",
   "execution_count": 294,
   "metadata": {},
   "outputs": [
    {
     "data": {
      "text/plain": [
       "<matplotlib.axes._subplots.AxesSubplot at 0x7f16ec400ba8>"
      ]
     },
     "execution_count": 294,
     "metadata": {},
     "output_type": "execute_result"
    },
    {
     "data": {
      "image/png": "[encoded data removed]",
      "text/plain": [
       "<Figure size 432x288 with 1 Axes>"
      ]
     },
     "metadata": {
      "needs_background": "light"
     },
     "output_type": "display_data"
    }
   ],
   "source": [
    "sns.boxplot(x=training_df['AVERAGE_FREE_FLOW_TIME'])"
   ]
  },
  {
   "cell_type": "code",
   "execution_count": 295,
   "metadata": {},
   "outputs": [],
   "source": [
    "for x in ['AVERAGE_FREE_FLOW_TIME']:\n",
    "\n",
    "  q1 = training_df[x].quantile(0.25)\n",
    "  q3 = training_df[x].quantile(0.75)\n",
    "  IQR = q3-q1\n",
    "  lower_limit = q1 - (IQR*1.5)\n",
    "  upper_limit = q3 + (IQR*1.5)\n",
    "  training_df.loc[training_df[x]<lower_limit, x] = lower_limit\n",
    "  training_df.loc[training_df[x]>upper_limit, x] = upper_limit\n"
   ]
  },
  {
   "cell_type": "code",
   "execution_count": 296,
   "metadata": {},
   "outputs": [
    {
     "data": {
      "text/plain": [
       "<matplotlib.axes._subplots.AxesSubplot at 0x7f16ec3e06a0>"
      ]
     },
     "execution_count": 296,
     "metadata": {},
     "output_type": "execute_result"
    },
    {
     "data": {
      "image/png": "[encoded data removed]",
      "text/plain": [
       "<Figure size 432x288 with 1 Axes>"
      ]
     },
     "metadata": {
      "needs_background": "light"
     },
     "output_type": "display_data"
    }
   ],
   "source": [
    "sns.boxplot(x=training_df['AVERAGE_FREE_FLOW_TIME'])"
   ]
  },
  {
   "cell_type": "code",
   "execution_count": 297,
   "metadata": {},
   "outputs": [
    {
     "data": {
      "text/plain": [
       "record_date                   0\n",
       "AVERAGE_SPEED_DIFF            0\n",
       "AVERAGE_FREE_FLOW_SPEED       0\n",
       "AVERAGE_TIME_DIFF             0\n",
       "AVERAGE_FREE_FLOW_TIME        0\n",
       "LUMINOSITY                    0\n",
       "AVERAGE_TEMPERATURE           0\n",
       "AVERAGE_ATMOSP_PRESSURE       0\n",
       "AVERAGE_HUMIDITY              0\n",
       "AVERAGE_WIND_SPEED            0\n",
       "AVERAGE_CLOUDINESS         2399\n",
       "AVERAGE_PRECIPITATION         0\n",
       "AVERAGE_RAIN               5686\n",
       "dtype: int64"
      ]
     },
     "execution_count": 297,
     "metadata": {},
     "output_type": "execute_result"
    }
   ],
   "source": [
    "training_df.isna().sum()"
   ]
  },
  {
   "cell_type": "code",
   "execution_count": 298,
   "metadata": {},
   "outputs": [
    {
     "data": {
      "text/plain": [
       "count    6198.000000\n",
       "mean       17.300210\n",
       "std        19.392985\n",
       "min         0.000000\n",
       "25%         1.800000\n",
       "50%         9.400000\n",
       "75%        27.700000\n",
       "max        76.100000\n",
       "Name: AVERAGE_TIME_DIFF, dtype: float64"
      ]
     },
     "execution_count": 298,
     "metadata": {},
     "output_type": "execute_result"
    }
   ],
   "source": [
    "training_df['AVERAGE_TIME_DIFF'].describe()"
   ]
  },
  {
   "cell_type": "code",
   "execution_count": 299,
   "metadata": {},
   "outputs": [
    {
     "data": {
      "text/plain": [
       "None         2200\n",
       "Medium       1640\n",
       "Low          1419\n",
       "High          792\n",
       "Very_High     147\n",
       "Name: AVERAGE_SPEED_DIFF, dtype: int64"
      ]
     },
     "execution_count": 299,
     "metadata": {},
     "output_type": "execute_result"
    }
   ],
   "source": [
    "training_df['AVERAGE_SPEED_DIFF'].value_counts()"
   ]
  },
  {
   "cell_type": "code",
   "execution_count": 300,
   "metadata": {},
   "outputs": [
    {
     "data": {
      "text/plain": [
       "céu claro            1497\n",
       "céu pouco nublado     443\n",
       "nuvens quebrados      415\n",
       "nuvens dispersas      415\n",
       "algumas nuvens        393\n",
       "nuvens quebradas      365\n",
       "céu limpo             145\n",
       "tempo nublado          66\n",
       "nublado                60\n",
       "Name: AVERAGE_CLOUDINESS, dtype: int64"
      ]
     },
     "execution_count": 300,
     "metadata": {},
     "output_type": "execute_result"
    }
   ],
   "source": [
    "training_df['AVERAGE_CLOUDINESS'].value_counts()"
   ]
  },
  {
   "cell_type": "code",
   "execution_count": 301,
   "metadata": {},
   "outputs": [
    {
     "data": {
      "text/plain": [
       "False    3799\n",
       "True     2399\n",
       "Name: AVERAGE_CLOUDINESS, dtype: int64"
      ]
     },
     "execution_count": 301,
     "metadata": {},
     "output_type": "execute_result"
    }
   ],
   "source": [
    "training_df['AVERAGE_CLOUDINESS'].isna().value_counts()"
   ]
  },
  {
   "cell_type": "code",
   "execution_count": 302,
   "metadata": {},
   "outputs": [],
   "source": [
    "training_df['AVERAGE_CLOUDINESS'].replace({\"nuvens quebrados\": \"nuvens quebradas\",\"tempo nublado\":\"nublado\",\"céu claro\":\"céu limpo\",\"nuvens dispersas\":\"algumas nuvens\"}, inplace=True)\n",
    "test_data['AVERAGE_CLOUDINESS'].replace({\"nuvens quebrados\": \"nuvens quebradas\",\"tempo nublado\":\"nublado\",\"céu claro\":\"céu limpo\"}, inplace=True)\n"
   ]
  },
  {
   "cell_type": "code",
   "execution_count": 303,
   "metadata": {},
   "outputs": [
    {
     "data": {
      "text/plain": [
       "céu limpo            1642\n",
       "algumas nuvens        808\n",
       "nuvens quebradas      780\n",
       "céu pouco nublado     443\n",
       "nublado               126\n",
       "Name: AVERAGE_CLOUDINESS, dtype: int64"
      ]
     },
     "execution_count": 303,
     "metadata": {},
     "output_type": "execute_result"
    }
   ],
   "source": [
    "training_df['AVERAGE_CLOUDINESS'].value_counts()"
   ]
  },
  {
   "cell_type": "code",
   "execution_count": 304,
   "metadata": {},
   "outputs": [
    {
     "data": {
      "text/plain": [
       "chuva fraca                    237\n",
       "chuva moderada                 139\n",
       "chuva leve                      44\n",
       "aguaceiros fracos               33\n",
       "chuva                           25\n",
       "aguaceiros                      10\n",
       "chuva forte                      8\n",
       "trovoada com chuva leve          7\n",
       "chuvisco fraco                   5\n",
       "chuva de intensidade pesado      2\n",
       "trovoada com chuva               1\n",
       "chuvisco e chuva fraca           1\n",
       "Name: AVERAGE_RAIN, dtype: int64"
      ]
     },
     "execution_count": 304,
     "metadata": {},
     "output_type": "execute_result"
    }
   ],
   "source": [
    "training_df['AVERAGE_RAIN'].value_counts()"
   ]
  },
  {
   "cell_type": "code",
   "execution_count": 306,
   "metadata": {},
   "outputs": [
    {
     "data": {
      "text/plain": [
       "chuva leve                 287\n",
       "chuva moderada             164\n",
       "aguaceiros fracos           33\n",
       "aguaceiros                  10\n",
       "chuva forte                 10\n",
       "trovoada com chuva leve      7\n",
       "trovoada com chuva           1\n",
       "Name: AVERAGE_RAIN, dtype: int64"
      ]
     },
     "execution_count": 306,
     "metadata": {},
     "output_type": "execute_result"
    }
   ],
   "source": [
    "training_df['AVERAGE_RAIN'].value_counts()"
   ]
  },
  {
   "cell_type": "code",
   "execution_count": 307,
   "metadata": {},
   "outputs": [
    {
     "data": {
      "text/plain": [
       "DARK         3206\n",
       "LIGHT        2751\n",
       "LOW_LIGHT     241\n",
       "Name: LUMINOSITY, dtype: int64"
      ]
     },
     "execution_count": 307,
     "metadata": {},
     "output_type": "execute_result"
    }
   ],
   "source": [
    "training_df['LUMINOSITY'].value_counts()"
   ]
  },
  {
   "cell_type": "code",
   "execution_count": 308,
   "metadata": {},
   "outputs": [
    {
     "data": {
      "text/plain": [
       "count    6198.0\n",
       "mean        0.0\n",
       "std         0.0\n",
       "min         0.0\n",
       "25%         0.0\n",
       "50%         0.0\n",
       "75%         0.0\n",
       "max         0.0\n",
       "Name: AVERAGE_PRECIPITATION, dtype: float64"
      ]
     },
     "execution_count": 308,
     "metadata": {},
     "output_type": "execute_result"
    }
   ],
   "source": [
    "training_df['AVERAGE_PRECIPITATION'].describe()"
   ]
  },
  {
   "cell_type": "code",
   "execution_count": 309,
   "metadata": {},
   "outputs": [],
   "source": [
    "training_df.drop(columns='AVERAGE_PRECIPITATION',inplace=True)\n",
    "test_data.drop(columns='AVERAGE_PRECIPITATION',inplace=True)"
   ]
  },
  {
   "cell_type": "code",
   "execution_count": 310,
   "metadata": {},
   "outputs": [],
   "source": [
    "training_df['record_date'] = pd.to_datetime(training_df['record_date'], infer_datetime_format=True)\n",
    "test_data['record_date'] = pd.to_datetime(test_data['record_date'], infer_datetime_format=True)\n",
    "training_df['HOUR'] = training_df['record_date'].dt.hour \n",
    "test_data['HOUR'] = test_data['record_date'].dt.hour \n",
    "training_df.drop(columns='record_date', inplace=True)\n",
    "test_data.drop(columns='record_date', inplace=True)"
   ]
  },
  {
   "cell_type": "code",
   "execution_count": 311,
   "metadata": {},
   "outputs": [
    {
     "data": {
      "text/plain": [
       "AVERAGE_SPEED_DIFF            0\n",
       "AVERAGE_FREE_FLOW_SPEED       0\n",
       "AVERAGE_TIME_DIFF             0\n",
       "AVERAGE_FREE_FLOW_TIME        0\n",
       "LUMINOSITY                    0\n",
       "AVERAGE_TEMPERATURE           0\n",
       "AVERAGE_ATMOSP_PRESSURE       0\n",
       "AVERAGE_HUMIDITY              0\n",
       "AVERAGE_WIND_SPEED            0\n",
       "AVERAGE_CLOUDINESS         2399\n",
       "AVERAGE_RAIN               5686\n",
       "HOUR                          0\n",
       "dtype: int64"
      ]
     },
     "execution_count": 311,
     "metadata": {},
     "output_type": "execute_result"
    }
   ],
   "source": [
    "training_df.isna().sum()"
   ]
  },
  {
   "cell_type": "code",
   "execution_count": 312,
   "metadata": {},
   "outputs": [],
   "source": [
    "training_df = training_df.drop(columns='AVERAGE_RAIN')\n",
    "test_data = test_data.drop(columns='AVERAGE_RAIN')"
   ]
  },
  {
   "cell_type": "code",
   "execution_count": 313,
   "metadata": {},
   "outputs": [
    {
     "data": {
      "text/html": [
       "<div>\n",
       "<style scoped>\n",
       "    .dataframe tbody tr th:only-of-type {\n",
       "        vertical-align: middle;\n",
       "    }\n",
       "\n",
       "    .dataframe tbody tr th {\n",
       "        vertical-align: top;\n",
       "    }\n",
       "\n",
       "    .dataframe thead th {\n",
       "        text-align: right;\n",
       "    }\n",
       "</style>\n",
       "<table border=\"1\" class=\"dataframe\">\n",
       "  <thead>\n",
       "    <tr style=\"text-align: right;\">\n",
       "      <th></th>\n",
       "      <th>AVERAGE_SPEED_DIFF</th>\n",
       "      <th>AVERAGE_FREE_FLOW_SPEED</th>\n",
       "      <th>AVERAGE_TIME_DIFF</th>\n",
       "      <th>AVERAGE_FREE_FLOW_TIME</th>\n",
       "      <th>LUMINOSITY</th>\n",
       "      <th>AVERAGE_TEMPERATURE</th>\n",
       "      <th>AVERAGE_ATMOSP_PRESSURE</th>\n",
       "      <th>AVERAGE_HUMIDITY</th>\n",
       "      <th>AVERAGE_WIND_SPEED</th>\n",
       "      <th>AVERAGE_CLOUDINESS</th>\n",
       "      <th>HOUR</th>\n",
       "    </tr>\n",
       "  </thead>\n",
       "  <tbody>\n",
       "    <tr>\n",
       "      <th>0</th>\n",
       "      <td>Medium</td>\n",
       "      <td>41.5</td>\n",
       "      <td>11.5</td>\n",
       "      <td>71.4</td>\n",
       "      <td>LIGHT</td>\n",
       "      <td>15.0</td>\n",
       "      <td>1019.0</td>\n",
       "      <td>100.0</td>\n",
       "      <td>3.0</td>\n",
       "      <td>NaN</td>\n",
       "      <td>7</td>\n",
       "    </tr>\n",
       "    <tr>\n",
       "      <th>1</th>\n",
       "      <td>High</td>\n",
       "      <td>41.7</td>\n",
       "      <td>48.3</td>\n",
       "      <td>87.4</td>\n",
       "      <td>LIGHT</td>\n",
       "      <td>21.0</td>\n",
       "      <td>1021.0</td>\n",
       "      <td>53.0</td>\n",
       "      <td>5.0</td>\n",
       "      <td>céu limpo</td>\n",
       "      <td>14</td>\n",
       "    </tr>\n",
       "    <tr>\n",
       "      <th>2</th>\n",
       "      <td>High</td>\n",
       "      <td>38.6</td>\n",
       "      <td>38.4</td>\n",
       "      <td>85.2</td>\n",
       "      <td>LIGHT</td>\n",
       "      <td>26.0</td>\n",
       "      <td>1014.0</td>\n",
       "      <td>61.0</td>\n",
       "      <td>4.0</td>\n",
       "      <td>NaN</td>\n",
       "      <td>16</td>\n",
       "    </tr>\n",
       "    <tr>\n",
       "      <th>3</th>\n",
       "      <td>High</td>\n",
       "      <td>37.4</td>\n",
       "      <td>61.0</td>\n",
       "      <td>94.1</td>\n",
       "      <td>LIGHT</td>\n",
       "      <td>18.0</td>\n",
       "      <td>1025.0</td>\n",
       "      <td>48.0</td>\n",
       "      <td>4.0</td>\n",
       "      <td>céu limpo</td>\n",
       "      <td>11</td>\n",
       "    </tr>\n",
       "    <tr>\n",
       "      <th>4</th>\n",
       "      <td>Medium</td>\n",
       "      <td>41.6</td>\n",
       "      <td>50.4</td>\n",
       "      <td>77.0</td>\n",
       "      <td>LIGHT</td>\n",
       "      <td>15.0</td>\n",
       "      <td>1008.0</td>\n",
       "      <td>82.0</td>\n",
       "      <td>8.5</td>\n",
       "      <td>NaN</td>\n",
       "      <td>12</td>\n",
       "    </tr>\n",
       "  </tbody>\n",
       "</table>\n",
       "</div>"
      ],
      "text/plain": [
       "  AVERAGE_SPEED_DIFF  AVERAGE_FREE_FLOW_SPEED  AVERAGE_TIME_DIFF  \\\n",
       "0             Medium                     41.5               11.5   \n",
       "1               High                     41.7               48.3   \n",
       "2               High                     38.6               38.4   \n",
       "3               High                     37.4               61.0   \n",
       "4             Medium                     41.6               50.4   \n",
       "\n",
       "   AVERAGE_FREE_FLOW_TIME LUMINOSITY  AVERAGE_TEMPERATURE  \\\n",
       "0                    71.4      LIGHT                 15.0   \n",
       "1                    87.4      LIGHT                 21.0   \n",
       "2                    85.2      LIGHT                 26.0   \n",
       "3                    94.1      LIGHT                 18.0   \n",
       "4                    77.0      LIGHT                 15.0   \n",
       "\n",
       "   AVERAGE_ATMOSP_PRESSURE  AVERAGE_HUMIDITY  AVERAGE_WIND_SPEED  \\\n",
       "0                   1019.0             100.0                 3.0   \n",
       "1                   1021.0              53.0                 5.0   \n",
       "2                   1014.0              61.0                 4.0   \n",
       "3                   1025.0              48.0                 4.0   \n",
       "4                   1008.0              82.0                 8.5   \n",
       "\n",
       "  AVERAGE_CLOUDINESS  HOUR  \n",
       "0                NaN     7  \n",
       "1          céu limpo    14  \n",
       "2                NaN    16  \n",
       "3          céu limpo    11  \n",
       "4                NaN    12  "
      ]
     },
     "execution_count": 313,
     "metadata": {},
     "output_type": "execute_result"
    }
   ],
   "source": [
    "training_df.head()"
   ]
  },
  {
   "cell_type": "code",
   "execution_count": 314,
   "metadata": {},
   "outputs": [],
   "source": [
    "one_hot_speed_diff = pd.get_dummies(training_df['AVERAGE_SPEED_DIFF'], prefix='AVERAGE_SPEED_DIFF')\n",
    "training_df = pd.concat([training_df,one_hot_speed_diff],axis=1)\n",
    "training_df = training_df.drop(columns='AVERAGE_SPEED_DIFF')"
   ]
  },
  {
   "cell_type": "code",
   "execution_count": 315,
   "metadata": {},
   "outputs": [],
   "source": [
    "training_df['AVERAGE_CLOUDINESS'] = pd.Categorical(training_df.AVERAGE_CLOUDINESS)\n",
    "test_data['AVERAGE_CLOUDINESS'] = pd.Categorical(test_data.AVERAGE_CLOUDINESS)"
   ]
  },
  {
   "cell_type": "code",
   "execution_count": 316,
   "metadata": {},
   "outputs": [],
   "source": [
    "training_df['LUMINOSITY'] = pd.Categorical(training_df.LUMINOSITY)\n",
    "test_data['LUMINOSITY'] = pd.Categorical(test_data.LUMINOSITY)"
   ]
  },
  {
   "cell_type": "code",
   "execution_count": 317,
   "metadata": {},
   "outputs": [],
   "source": [
    "from sklearn import preprocessing\n",
    "le = preprocessing.LabelEncoder()\n",
    "training_df['LUMINOSITY'] = le.fit_transform(training_df['LUMINOSITY'])\n",
    "test_data['LUMINOSITY'] = le.fit_transform(test_data['LUMINOSITY'])\n",
    "training_df['AVERAGE_CLOUDINESS'] = le.fit_transform(training_df['AVERAGE_CLOUDINESS'])\n",
    "test_data['AVERAGE_CLOUDINESS'] = le.fit_transform(test_data['AVERAGE_CLOUDINESS'])"
   ]
  },
  {
   "cell_type": "code",
   "execution_count": 318,
   "metadata": {},
   "outputs": [
    {
     "data": {
      "text/plain": [
       "5    2399\n",
       "1    1642\n",
       "0     808\n",
       "4     780\n",
       "2     443\n",
       "3     126\n",
       "Name: AVERAGE_CLOUDINESS, dtype: int64"
      ]
     },
     "execution_count": 318,
     "metadata": {},
     "output_type": "execute_result"
    }
   ],
   "source": [
    "training_df['AVERAGE_CLOUDINESS'].value_counts()"
   ]
  },
  {
   "cell_type": "code",
   "execution_count": 319,
   "metadata": {},
   "outputs": [],
   "source": [
    "param_grid = {'C' : [1,10,100,1000], 'gamma': [0.01,0.001,0.0001,0.00001], 'kernel': ['rbf', 'sigmoid']}\n",
    "#gridR = GridSearchCV(SVC(random_state = 2021), param_grid, refit=True, verbose = 3)\n",
    "svc = SVC(random_state = 2021, C=10, gamma=0.01)\n",
    "\n",
    "X = training_df[['AVERAGE_TEMPERATURE','AVERAGE_CLOUDINESS','AVERAGE_HUMIDITY','AVERAGE_ATMOSP_PRESSURE']].copy()\n",
    "Missing = X[X.AVERAGE_CLOUDINESS == 5]\n",
    "X = X[ X.AVERAGE_CLOUDINESS != 5]\n",
    "Y = X.pop('AVERAGE_CLOUDINESS')\n",
    "#gridR.fit(X,Y)\n",
    "svc.fit(X,Y)\n",
    "predicted_Cloudiness = pd.Series(svc.predict(Missing[['AVERAGE_TEMPERATURE','AVERAGE_HUMIDITY','AVERAGE_ATMOSP_PRESSURE']]),index=Missing.index)\n",
    "training_df.loc[Missing.index,'AVERAGE_CLOUDINESS'] = predicted_Cloudiness"
   ]
  },
  {
   "cell_type": "code",
   "execution_count": 320,
   "metadata": {},
   "outputs": [
    {
     "data": {
      "text/plain": [
       "1    2631\n",
       "4    1942\n",
       "0     975\n",
       "2     524\n",
       "3     126\n",
       "Name: AVERAGE_CLOUDINESS, dtype: int64"
      ]
     },
     "execution_count": 320,
     "metadata": {},
     "output_type": "execute_result"
    }
   ],
   "source": [
    "training_df['AVERAGE_CLOUDINESS'].value_counts()"
   ]
  },
  {
   "cell_type": "code",
   "execution_count": 322,
   "metadata": {},
   "outputs": [
    {
     "data": {
      "text/plain": [
       "AVERAGE_FREE_FLOW_SPEED         0\n",
       "AVERAGE_TIME_DIFF               0\n",
       "AVERAGE_FREE_FLOW_TIME          0\n",
       "LUMINOSITY                      0\n",
       "AVERAGE_TEMPERATURE             0\n",
       "AVERAGE_ATMOSP_PRESSURE         0\n",
       "AVERAGE_HUMIDITY                0\n",
       "AVERAGE_WIND_SPEED              0\n",
       "AVERAGE_CLOUDINESS              0\n",
       "HOUR                            0\n",
       "AVERAGE_SPEED_DIFF_High         0\n",
       "AVERAGE_SPEED_DIFF_Low          0\n",
       "AVERAGE_SPEED_DIFF_Medium       0\n",
       "AVERAGE_SPEED_DIFF_None         0\n",
       "AVERAGE_SPEED_DIFF_Very_High    0\n",
       "dtype: int64"
      ]
     },
     "execution_count": 322,
     "metadata": {},
     "output_type": "execute_result"
    }
   ],
   "source": [
    "training_df.isna().sum()"
   ]
  },
  {
   "cell_type": "code",
   "execution_count": 323,
   "metadata": {},
   "outputs": [
    {
     "name": "stdout",
     "output_type": "stream",
     "text": [
      "<class 'pandas.core.frame.DataFrame'>\n",
      "Int64Index: 6198 entries, 0 to 6811\n",
      "Data columns (total 10 columns):\n",
      " #   Column                   Non-Null Count  Dtype  \n",
      "---  ------                   --------------  -----  \n",
      " 0   AVERAGE_FREE_FLOW_SPEED  6198 non-null   float64\n",
      " 1   AVERAGE_TIME_DIFF        6198 non-null   float64\n",
      " 2   AVERAGE_FREE_FLOW_TIME   6198 non-null   float64\n",
      " 3   LUMINOSITY               6198 non-null   int64  \n",
      " 4   AVERAGE_TEMPERATURE      6198 non-null   float64\n",
      " 5   AVERAGE_ATMOSP_PRESSURE  6198 non-null   float64\n",
      " 6   AVERAGE_HUMIDITY         6198 non-null   float64\n",
      " 7   AVERAGE_WIND_SPEED       6198 non-null   float64\n",
      " 8   AVERAGE_CLOUDINESS       6198 non-null   int64  \n",
      " 9   HOUR                     6198 non-null   int64  \n",
      "dtypes: float64(7), int64(3)\n",
      "memory usage: 692.6 KB\n"
     ]
    }
   ],
   "source": [
    "X = training_df.drop(['AVERAGE_SPEED_DIFF_High','AVERAGE_SPEED_DIFF_Low','AVERAGE_SPEED_DIFF_Medium','AVERAGE_SPEED_DIFF_None','AVERAGE_SPEED_DIFF_Very_High'], axis  = 1)\n",
    "y = training_df[['AVERAGE_SPEED_DIFF_High','AVERAGE_SPEED_DIFF_Low','AVERAGE_SPEED_DIFF_Medium','AVERAGE_SPEED_DIFF_None','AVERAGE_SPEED_DIFF_Very_High']]\n",
    "X.info()"
   ]
  },
  {
   "cell_type": "code",
   "execution_count": 324,
   "metadata": {},
   "outputs": [
    {
     "data": {
      "text/html": [
       "<div>\n",
       "<style scoped>\n",
       "    .dataframe tbody tr th:only-of-type {\n",
       "        vertical-align: middle;\n",
       "    }\n",
       "\n",
       "    .dataframe tbody tr th {\n",
       "        vertical-align: top;\n",
       "    }\n",
       "\n",
       "    .dataframe thead th {\n",
       "        text-align: right;\n",
       "    }\n",
       "</style>\n",
       "<table border=\"1\" class=\"dataframe\">\n",
       "  <thead>\n",
       "    <tr style=\"text-align: right;\">\n",
       "      <th></th>\n",
       "      <th>AVERAGE_SPEED_DIFF_High</th>\n",
       "      <th>AVERAGE_SPEED_DIFF_Low</th>\n",
       "      <th>AVERAGE_SPEED_DIFF_Medium</th>\n",
       "      <th>AVERAGE_SPEED_DIFF_None</th>\n",
       "      <th>AVERAGE_SPEED_DIFF_Very_High</th>\n",
       "    </tr>\n",
       "  </thead>\n",
       "  <tbody>\n",
       "    <tr>\n",
       "      <th>0</th>\n",
       "      <td>0</td>\n",
       "      <td>0</td>\n",
       "      <td>1</td>\n",
       "      <td>0</td>\n",
       "      <td>0</td>\n",
       "    </tr>\n",
       "    <tr>\n",
       "      <th>1</th>\n",
       "      <td>1</td>\n",
       "      <td>0</td>\n",
       "      <td>0</td>\n",
       "      <td>0</td>\n",
       "      <td>0</td>\n",
       "    </tr>\n",
       "    <tr>\n",
       "      <th>2</th>\n",
       "      <td>1</td>\n",
       "      <td>0</td>\n",
       "      <td>0</td>\n",
       "      <td>0</td>\n",
       "      <td>0</td>\n",
       "    </tr>\n",
       "    <tr>\n",
       "      <th>3</th>\n",
       "      <td>1</td>\n",
       "      <td>0</td>\n",
       "      <td>0</td>\n",
       "      <td>0</td>\n",
       "      <td>0</td>\n",
       "    </tr>\n",
       "    <tr>\n",
       "      <th>4</th>\n",
       "      <td>0</td>\n",
       "      <td>0</td>\n",
       "      <td>1</td>\n",
       "      <td>0</td>\n",
       "      <td>0</td>\n",
       "    </tr>\n",
       "    <tr>\n",
       "      <th>...</th>\n",
       "      <td>...</td>\n",
       "      <td>...</td>\n",
       "      <td>...</td>\n",
       "      <td>...</td>\n",
       "      <td>...</td>\n",
       "    </tr>\n",
       "    <tr>\n",
       "      <th>6807</th>\n",
       "      <td>0</td>\n",
       "      <td>1</td>\n",
       "      <td>0</td>\n",
       "      <td>0</td>\n",
       "      <td>0</td>\n",
       "    </tr>\n",
       "    <tr>\n",
       "      <th>6808</th>\n",
       "      <td>0</td>\n",
       "      <td>0</td>\n",
       "      <td>1</td>\n",
       "      <td>0</td>\n",
       "      <td>0</td>\n",
       "    </tr>\n",
       "    <tr>\n",
       "      <th>6809</th>\n",
       "      <td>0</td>\n",
       "      <td>0</td>\n",
       "      <td>0</td>\n",
       "      <td>1</td>\n",
       "      <td>0</td>\n",
       "    </tr>\n",
       "    <tr>\n",
       "      <th>6810</th>\n",
       "      <td>0</td>\n",
       "      <td>0</td>\n",
       "      <td>0</td>\n",
       "      <td>1</td>\n",
       "      <td>0</td>\n",
       "    </tr>\n",
       "    <tr>\n",
       "      <th>6811</th>\n",
       "      <td>0</td>\n",
       "      <td>0</td>\n",
       "      <td>1</td>\n",
       "      <td>0</td>\n",
       "      <td>0</td>\n",
       "    </tr>\n",
       "  </tbody>\n",
       "</table>\n",
       "<p>6198 rows × 5 columns</p>\n",
       "</div>"
      ],
      "text/plain": [
       "      AVERAGE_SPEED_DIFF_High  AVERAGE_SPEED_DIFF_Low  \\\n",
       "0                           0                       0   \n",
       "1                           1                       0   \n",
       "2                           1                       0   \n",
       "3                           1                       0   \n",
       "4                           0                       0   \n",
       "...                       ...                     ...   \n",
       "6807                        0                       1   \n",
       "6808                        0                       0   \n",
       "6809                        0                       0   \n",
       "6810                        0                       0   \n",
       "6811                        0                       0   \n",
       "\n",
       "      AVERAGE_SPEED_DIFF_Medium  AVERAGE_SPEED_DIFF_None  \\\n",
       "0                             1                        0   \n",
       "1                             0                        0   \n",
       "2                             0                        0   \n",
       "3                             0                        0   \n",
       "4                             1                        0   \n",
       "...                         ...                      ...   \n",
       "6807                          0                        0   \n",
       "6808                          1                        0   \n",
       "6809                          0                        1   \n",
       "6810                          0                        1   \n",
       "6811                          1                        0   \n",
       "\n",
       "      AVERAGE_SPEED_DIFF_Very_High  \n",
       "0                                0  \n",
       "1                                0  \n",
       "2                                0  \n",
       "3                                0  \n",
       "4                                0  \n",
       "...                            ...  \n",
       "6807                             0  \n",
       "6808                             0  \n",
       "6809                             0  \n",
       "6810                             0  \n",
       "6811                             0  \n",
       "\n",
       "[6198 rows x 5 columns]"
      ]
     },
     "execution_count": 324,
     "metadata": {},
     "output_type": "execute_result"
    }
   ],
   "source": [
    "X_train, X_test, y_train, y_test = train_test_split(X,y, test_size=0.3, random_state=2021)\n",
    "y"
   ]
  },
  {
   "cell_type": "code",
   "execution_count": 325,
   "metadata": {},
   "outputs": [
    {
     "name": "stdout",
     "output_type": "stream",
     "text": [
      "Length of Training Data: 4338\n",
      "Length of Testing Data: 1860\n"
     ]
    }
   ],
   "source": [
    "print(\"Length of Training Data: {}\".format(len(X_train)))\n",
    "print(\"Length of Testing Data: {}\".format(len(X_test)))"
   ]
  },
  {
   "cell_type": "code",
   "execution_count": 326,
   "metadata": {},
   "outputs": [],
   "source": [
    "from sklearn.preprocessing import StandardScaler\n",
    "scaler = StandardScaler()\n",
    "x_train = scaler.fit_transform(X_train)\n",
    "x_test = scaler.fit_transform(X_test)"
   ]
  },
  {
   "cell_type": "code",
   "execution_count": 328,
   "metadata": {},
   "outputs": [],
   "source": [
    "def evaluate(model):\n",
    "    model.fit(X,y)\n",
    "    accuracy=model.score(X_test,y_test)\n",
    "    \n",
    "    print('model name ',model)\n",
    "    print('accuracy ',accuracy)"
   ]
  },
  {
   "cell_type": "code",
   "execution_count": 329,
   "metadata": {},
   "outputs": [
    {
     "name": "stdout",
     "output_type": "stream",
     "text": [
      "TensorFlow version: 2.2.0\n"
     ]
    }
   ],
   "source": [
    "import tensorflow as tf\n",
    "from tensorflow.keras.models import Sequential\n",
    "from tensorflow.keras.layers import Dense, Dropout, BatchNormalization\n",
    "from tensorflow.keras.wrappers.scikit_learn import KerasRegressor\n",
    "from sklearn.model_selection import GridSearchCV, KFold\n",
    "from sklearn.preprocessing import MinMaxScaler\n",
    "\n",
    "RANDOM_SEED = 2021\n",
    "\n",
    "print(\"TensorFlow version:\", tf.__version__)"
   ]
  },
  {
   "cell_type": "code",
   "execution_count": 330,
   "metadata": {},
   "outputs": [
    {
     "data": {
      "text/html": [
       "<div>\n",
       "<style scoped>\n",
       "    .dataframe tbody tr th:only-of-type {\n",
       "        vertical-align: middle;\n",
       "    }\n",
       "\n",
       "    .dataframe tbody tr th {\n",
       "        vertical-align: top;\n",
       "    }\n",
       "\n",
       "    .dataframe thead th {\n",
       "        text-align: right;\n",
       "    }\n",
       "</style>\n",
       "<table border=\"1\" class=\"dataframe\">\n",
       "  <thead>\n",
       "    <tr style=\"text-align: right;\">\n",
       "      <th></th>\n",
       "      <th>AVERAGE_FREE_FLOW_SPEED</th>\n",
       "      <th>AVERAGE_TIME_DIFF</th>\n",
       "      <th>AVERAGE_FREE_FLOW_TIME</th>\n",
       "      <th>LUMINOSITY</th>\n",
       "      <th>AVERAGE_TEMPERATURE</th>\n",
       "      <th>AVERAGE_ATMOSP_PRESSURE</th>\n",
       "      <th>AVERAGE_HUMIDITY</th>\n",
       "      <th>AVERAGE_WIND_SPEED</th>\n",
       "      <th>AVERAGE_CLOUDINESS</th>\n",
       "      <th>HOUR</th>\n",
       "    </tr>\n",
       "  </thead>\n",
       "  <tbody>\n",
       "    <tr>\n",
       "      <th>0</th>\n",
       "      <td>41.5</td>\n",
       "      <td>11.5</td>\n",
       "      <td>71.4</td>\n",
       "      <td>1</td>\n",
       "      <td>15.0</td>\n",
       "      <td>1019.0</td>\n",
       "      <td>100.0</td>\n",
       "      <td>3.0</td>\n",
       "      <td>4</td>\n",
       "      <td>7</td>\n",
       "    </tr>\n",
       "    <tr>\n",
       "      <th>1</th>\n",
       "      <td>41.7</td>\n",
       "      <td>48.3</td>\n",
       "      <td>87.4</td>\n",
       "      <td>1</td>\n",
       "      <td>21.0</td>\n",
       "      <td>1021.0</td>\n",
       "      <td>53.0</td>\n",
       "      <td>5.0</td>\n",
       "      <td>1</td>\n",
       "      <td>14</td>\n",
       "    </tr>\n",
       "    <tr>\n",
       "      <th>2</th>\n",
       "      <td>38.6</td>\n",
       "      <td>38.4</td>\n",
       "      <td>85.2</td>\n",
       "      <td>1</td>\n",
       "      <td>26.0</td>\n",
       "      <td>1014.0</td>\n",
       "      <td>61.0</td>\n",
       "      <td>4.0</td>\n",
       "      <td>1</td>\n",
       "      <td>16</td>\n",
       "    </tr>\n",
       "    <tr>\n",
       "      <th>3</th>\n",
       "      <td>37.4</td>\n",
       "      <td>61.0</td>\n",
       "      <td>94.1</td>\n",
       "      <td>1</td>\n",
       "      <td>18.0</td>\n",
       "      <td>1025.0</td>\n",
       "      <td>48.0</td>\n",
       "      <td>4.0</td>\n",
       "      <td>1</td>\n",
       "      <td>11</td>\n",
       "    </tr>\n",
       "    <tr>\n",
       "      <th>4</th>\n",
       "      <td>41.6</td>\n",
       "      <td>50.4</td>\n",
       "      <td>77.0</td>\n",
       "      <td>1</td>\n",
       "      <td>15.0</td>\n",
       "      <td>1008.0</td>\n",
       "      <td>82.0</td>\n",
       "      <td>8.5</td>\n",
       "      <td>4</td>\n",
       "      <td>12</td>\n",
       "    </tr>\n",
       "  </tbody>\n",
       "</table>\n",
       "</div>"
      ],
      "text/plain": [
       "   AVERAGE_FREE_FLOW_SPEED  AVERAGE_TIME_DIFF  AVERAGE_FREE_FLOW_TIME  \\\n",
       "0                     41.5               11.5                    71.4   \n",
       "1                     41.7               48.3                    87.4   \n",
       "2                     38.6               38.4                    85.2   \n",
       "3                     37.4               61.0                    94.1   \n",
       "4                     41.6               50.4                    77.0   \n",
       "\n",
       "   LUMINOSITY  AVERAGE_TEMPERATURE  AVERAGE_ATMOSP_PRESSURE  AVERAGE_HUMIDITY  \\\n",
       "0           1                 15.0                   1019.0             100.0   \n",
       "1           1                 21.0                   1021.0              53.0   \n",
       "2           1                 26.0                   1014.0              61.0   \n",
       "3           1                 18.0                   1025.0              48.0   \n",
       "4           1                 15.0                   1008.0              82.0   \n",
       "\n",
       "   AVERAGE_WIND_SPEED  AVERAGE_CLOUDINESS  HOUR  \n",
       "0                 3.0                   4     7  \n",
       "1                 5.0                   1    14  \n",
       "2                 4.0                   1    16  \n",
       "3                 4.0                   1    11  \n",
       "4                 8.5                   4    12  "
      ]
     },
     "execution_count": 330,
     "metadata": {},
     "output_type": "execute_result"
    }
   ],
   "source": [
    "X.head()"
   ]
  },
  {
   "cell_type": "code",
   "execution_count": 331,
   "metadata": {},
   "outputs": [
    {
     "data": {
      "text/html": [
       "<div>\n",
       "<style scoped>\n",
       "    .dataframe tbody tr th:only-of-type {\n",
       "        vertical-align: middle;\n",
       "    }\n",
       "\n",
       "    .dataframe tbody tr th {\n",
       "        vertical-align: top;\n",
       "    }\n",
       "\n",
       "    .dataframe thead th {\n",
       "        text-align: right;\n",
       "    }\n",
       "</style>\n",
       "<table border=\"1\" class=\"dataframe\">\n",
       "  <thead>\n",
       "    <tr style=\"text-align: right;\">\n",
       "      <th></th>\n",
       "      <th>AVERAGE_SPEED_DIFF_High</th>\n",
       "      <th>AVERAGE_SPEED_DIFF_Low</th>\n",
       "      <th>AVERAGE_SPEED_DIFF_Medium</th>\n",
       "      <th>AVERAGE_SPEED_DIFF_None</th>\n",
       "      <th>AVERAGE_SPEED_DIFF_Very_High</th>\n",
       "    </tr>\n",
       "  </thead>\n",
       "  <tbody>\n",
       "    <tr>\n",
       "      <th>0</th>\n",
       "      <td>0.0</td>\n",
       "      <td>0.0</td>\n",
       "      <td>1.0</td>\n",
       "      <td>0.0</td>\n",
       "      <td>0.0</td>\n",
       "    </tr>\n",
       "    <tr>\n",
       "      <th>1</th>\n",
       "      <td>1.0</td>\n",
       "      <td>0.0</td>\n",
       "      <td>0.0</td>\n",
       "      <td>0.0</td>\n",
       "      <td>0.0</td>\n",
       "    </tr>\n",
       "    <tr>\n",
       "      <th>2</th>\n",
       "      <td>1.0</td>\n",
       "      <td>0.0</td>\n",
       "      <td>0.0</td>\n",
       "      <td>0.0</td>\n",
       "      <td>0.0</td>\n",
       "    </tr>\n",
       "    <tr>\n",
       "      <th>3</th>\n",
       "      <td>1.0</td>\n",
       "      <td>0.0</td>\n",
       "      <td>0.0</td>\n",
       "      <td>0.0</td>\n",
       "      <td>0.0</td>\n",
       "    </tr>\n",
       "    <tr>\n",
       "      <th>4</th>\n",
       "      <td>0.0</td>\n",
       "      <td>0.0</td>\n",
       "      <td>1.0</td>\n",
       "      <td>0.0</td>\n",
       "      <td>0.0</td>\n",
       "    </tr>\n",
       "  </tbody>\n",
       "</table>\n",
       "</div>"
      ],
      "text/plain": [
       "   AVERAGE_SPEED_DIFF_High  AVERAGE_SPEED_DIFF_Low  AVERAGE_SPEED_DIFF_Medium  \\\n",
       "0                      0.0                     0.0                        1.0   \n",
       "1                      1.0                     0.0                        0.0   \n",
       "2                      1.0                     0.0                        0.0   \n",
       "3                      1.0                     0.0                        0.0   \n",
       "4                      0.0                     0.0                        1.0   \n",
       "\n",
       "   AVERAGE_SPEED_DIFF_None  AVERAGE_SPEED_DIFF_Very_High  \n",
       "0                      0.0                           0.0  \n",
       "1                      0.0                           0.0  \n",
       "2                      0.0                           0.0  \n",
       "3                      0.0                           0.0  \n",
       "4                      0.0                           0.0  "
      ]
     },
     "execution_count": 331,
     "metadata": {},
     "output_type": "execute_result"
    }
   ],
   "source": [
    "scaler_X = MinMaxScaler(feature_range=(0, 1)).fit(X)\n",
    "scaler_y = MinMaxScaler(feature_range=(0, 1)).fit(y)\n",
    "X_scaled = pd.DataFrame(scaler_X.transform(X[X.columns]), columns = X.columns)\n",
    "y_scaled = pd.DataFrame(scaler_y.transform(y[y.columns]), columns = y.columns)\n",
    "\n",
    "\n",
    "X.head()\n",
    "X_scaled.head()\n",
    "Y.head()\n",
    "y_scaled.head()"
   ]
  },
  {
   "cell_type": "code",
   "execution_count": 332,
   "metadata": {},
   "outputs": [],
   "source": [
    "def build_model(activation='relu', learning_rate=0.01):\n",
    "    #Create a sequential model (with  three Layers - Last one is the output)\n",
    "    model = Sequential()\n",
    "    model.add(Dense(40, input_dim=X_scaled.shape[1], activation=activation))\n",
    "    model.add(Dense(20, activation=activation))\n",
    "    model.add(Dense(20, activation=activation))\n",
    "    model.add(Dense(5, activation='softmax'))\n",
    "    \n",
    "    model.compile(\n",
    "        loss = tf.keras.losses.CategoricalCrossentropy(),\n",
    "        optimizer = tf.optimizers.Adam(learning_rate),\n",
    "        metrics = [tf.keras.metrics.CategoricalAccuracy()]\n",
    "    )\n",
    "    return model\n"
   ]
  },
  {
   "cell_type": "code",
   "execution_count": 333,
   "metadata": {},
   "outputs": [],
   "source": [
    "X_train, X_test, y_train, y_test = train_test_split(X_scaled, y_scaled, test_size=0.3, random_state=2021)"
   ]
  },
  {
   "cell_type": "code",
   "execution_count": 334,
   "metadata": {},
   "outputs": [
    {
     "data": {
      "text/html": [
       "<div>\n",
       "<style scoped>\n",
       "    .dataframe tbody tr th:only-of-type {\n",
       "        vertical-align: middle;\n",
       "    }\n",
       "\n",
       "    .dataframe tbody tr th {\n",
       "        vertical-align: top;\n",
       "    }\n",
       "\n",
       "    .dataframe thead th {\n",
       "        text-align: right;\n",
       "    }\n",
       "</style>\n",
       "<table border=\"1\" class=\"dataframe\">\n",
       "  <thead>\n",
       "    <tr style=\"text-align: right;\">\n",
       "      <th></th>\n",
       "      <th>AVERAGE_SPEED_DIFF_High</th>\n",
       "      <th>AVERAGE_SPEED_DIFF_Low</th>\n",
       "      <th>AVERAGE_SPEED_DIFF_Medium</th>\n",
       "      <th>AVERAGE_SPEED_DIFF_None</th>\n",
       "      <th>AVERAGE_SPEED_DIFF_Very_High</th>\n",
       "    </tr>\n",
       "  </thead>\n",
       "  <tbody>\n",
       "    <tr>\n",
       "      <th>53</th>\n",
       "      <td>0.0</td>\n",
       "      <td>0.0</td>\n",
       "      <td>0.0</td>\n",
       "      <td>1.0</td>\n",
       "      <td>0.0</td>\n",
       "    </tr>\n",
       "    <tr>\n",
       "      <th>5838</th>\n",
       "      <td>0.0</td>\n",
       "      <td>0.0</td>\n",
       "      <td>0.0</td>\n",
       "      <td>1.0</td>\n",
       "      <td>0.0</td>\n",
       "    </tr>\n",
       "    <tr>\n",
       "      <th>2205</th>\n",
       "      <td>0.0</td>\n",
       "      <td>0.0</td>\n",
       "      <td>1.0</td>\n",
       "      <td>0.0</td>\n",
       "      <td>0.0</td>\n",
       "    </tr>\n",
       "    <tr>\n",
       "      <th>5741</th>\n",
       "      <td>0.0</td>\n",
       "      <td>0.0</td>\n",
       "      <td>0.0</td>\n",
       "      <td>1.0</td>\n",
       "      <td>0.0</td>\n",
       "    </tr>\n",
       "    <tr>\n",
       "      <th>4588</th>\n",
       "      <td>0.0</td>\n",
       "      <td>1.0</td>\n",
       "      <td>0.0</td>\n",
       "      <td>0.0</td>\n",
       "      <td>0.0</td>\n",
       "    </tr>\n",
       "  </tbody>\n",
       "</table>\n",
       "</div>"
      ],
      "text/plain": [
       "      AVERAGE_SPEED_DIFF_High  AVERAGE_SPEED_DIFF_Low  \\\n",
       "53                        0.0                     0.0   \n",
       "5838                      0.0                     0.0   \n",
       "2205                      0.0                     0.0   \n",
       "5741                      0.0                     0.0   \n",
       "4588                      0.0                     1.0   \n",
       "\n",
       "      AVERAGE_SPEED_DIFF_Medium  AVERAGE_SPEED_DIFF_None  \\\n",
       "53                          0.0                      1.0   \n",
       "5838                        0.0                      1.0   \n",
       "2205                        1.0                      0.0   \n",
       "5741                        0.0                      1.0   \n",
       "4588                        0.0                      0.0   \n",
       "\n",
       "      AVERAGE_SPEED_DIFF_Very_High  \n",
       "53                             0.0  \n",
       "5838                           0.0  \n",
       "2205                           0.0  \n",
       "5741                           0.0  \n",
       "4588                           0.0  "
      ]
     },
     "execution_count": 334,
     "metadata": {},
     "output_type": "execute_result"
    }
   ],
   "source": [
    "y_test.head()"
   ]
  },
  {
   "cell_type": "code",
   "execution_count": 335,
   "metadata": {},
   "outputs": [],
   "source": [
    "TUNING_DICT = {\n",
    "    'activation' : ['relu', 'sigmoid'],\n",
    "    'learning_rate' : [0.01,0.001]\n",
    "}"
   ]
  },
  {
   "cell_type": "code",
   "execution_count": 336,
   "metadata": {},
   "outputs": [
    {
     "name": "stdout",
     "output_type": "stream",
     "text": [
      "Epoch 1/40\n",
      "109/109 [==============================] - 1s 6ms/step - loss: 0.8917 - categorical_accuracy: 0.6138 - val_loss: 0.6266 - val_categorical_accuracy: 0.7247\n",
      "Epoch 2/40\n",
      "109/109 [==============================] - 0s 4ms/step - loss: 0.6100 - categorical_accuracy: 0.7389 - val_loss: 0.7347 - val_categorical_accuracy: 0.6613\n",
      "Epoch 3/40\n",
      "109/109 [==============================] - 1s 6ms/step - loss: 0.5982 - categorical_accuracy: 0.7441 - val_loss: 0.5970 - val_categorical_accuracy: 0.7408\n",
      "Epoch 4/40\n",
      "109/109 [==============================] - 1s 5ms/step - loss: 0.5874 - categorical_accuracy: 0.7418 - val_loss: 0.5853 - val_categorical_accuracy: 0.7339\n",
      "Epoch 5/40\n",
      "109/109 [==============================] - 1s 6ms/step - loss: 0.5673 - categorical_accuracy: 0.7622 - val_loss: 0.5770 - val_categorical_accuracy: 0.7327\n",
      "Epoch 6/40\n",
      "109/109 [==============================] - 1s 7ms/step - loss: 0.5541 - categorical_accuracy: 0.7617 - val_loss: 0.5728 - val_categorical_accuracy: 0.7488\n",
      "Epoch 7/40\n",
      "109/109 [==============================] - 0s 4ms/step - loss: 0.5364 - categorical_accuracy: 0.7689 - val_loss: 0.5763 - val_categorical_accuracy: 0.7419\n",
      "Epoch 8/40\n",
      "109/109 [==============================] - 1s 5ms/step - loss: 0.5348 - categorical_accuracy: 0.7738 - val_loss: 0.5703 - val_categorical_accuracy: 0.7339\n",
      "Epoch 9/40\n",
      "109/109 [==============================] - 0s 4ms/step - loss: 0.5526 - categorical_accuracy: 0.7680 - val_loss: 0.7209 - val_categorical_accuracy: 0.6659\n",
      "Epoch 10/40\n",
      "109/109 [==============================] - 0s 2ms/step - loss: 0.5409 - categorical_accuracy: 0.7749 - val_loss: 0.5623 - val_categorical_accuracy: 0.7523\n",
      "Epoch 11/40\n",
      "109/109 [==============================] - 1s 5ms/step - loss: 0.5404 - categorical_accuracy: 0.7726 - val_loss: 0.5801 - val_categorical_accuracy: 0.7258\n",
      "Epoch 12/40\n",
      "109/109 [==============================] - 0s 3ms/step - loss: 0.5305 - categorical_accuracy: 0.7723 - val_loss: 0.5571 - val_categorical_accuracy: 0.7350\n",
      "Epoch 13/40\n",
      "109/109 [==============================] - 0s 3ms/step - loss: 0.5346 - categorical_accuracy: 0.7648 - val_loss: 0.6116 - val_categorical_accuracy: 0.7373\n",
      "Epoch 14/40\n",
      "109/109 [==============================] - 0s 3ms/step - loss: 0.5358 - categorical_accuracy: 0.7700 - val_loss: 0.5686 - val_categorical_accuracy: 0.7454\n",
      "Epoch 15/40\n",
      "109/109 [==============================] - 0s 3ms/step - loss: 0.5308 - categorical_accuracy: 0.7781 - val_loss: 0.5418 - val_categorical_accuracy: 0.7500\n",
      "Epoch 16/40\n",
      "109/109 [==============================] - 0s 4ms/step - loss: 0.5227 - categorical_accuracy: 0.7755 - val_loss: 0.5356 - val_categorical_accuracy: 0.7477\n",
      "Epoch 17/40\n",
      "109/109 [==============================] - 0s 4ms/step - loss: 0.5186 - categorical_accuracy: 0.7795 - val_loss: 0.5376 - val_categorical_accuracy: 0.7419\n",
      "Epoch 18/40\n",
      "109/109 [==============================] - 1s 9ms/step - loss: 0.5107 - categorical_accuracy: 0.7821 - val_loss: 0.5452 - val_categorical_accuracy: 0.7546\n",
      "Epoch 19/40\n",
      "109/109 [==============================] - 1s 9ms/step - loss: 0.5146 - categorical_accuracy: 0.7807 - val_loss: 0.5355 - val_categorical_accuracy: 0.7362\n",
      "Epoch 20/40\n",
      "109/109 [==============================] - 1s 7ms/step - loss: 0.5078 - categorical_accuracy: 0.7899 - val_loss: 0.5969 - val_categorical_accuracy: 0.7408\n",
      "Epoch 21/40\n",
      "109/109 [==============================] - 0s 4ms/step - loss: 0.5090 - categorical_accuracy: 0.7830 - val_loss: 0.5602 - val_categorical_accuracy: 0.7270\n",
      "Epoch 22/40\n",
      "109/109 [==============================] - 0s 4ms/step - loss: 0.5115 - categorical_accuracy: 0.7787 - val_loss: 0.5455 - val_categorical_accuracy: 0.7569\n",
      "Epoch 23/40\n",
      "109/109 [==============================] - 1s 5ms/step - loss: 0.5137 - categorical_accuracy: 0.7827 - val_loss: 0.5760 - val_categorical_accuracy: 0.7477\n",
      "Epoch 24/40\n",
      "109/109 [==============================] - 1s 5ms/step - loss: 0.5088 - categorical_accuracy: 0.7769 - val_loss: 0.5284 - val_categorical_accuracy: 0.7604\n",
      "Epoch 25/40\n",
      "109/109 [==============================] - 0s 4ms/step - loss: 0.5028 - categorical_accuracy: 0.7804 - val_loss: 0.5733 - val_categorical_accuracy: 0.7304\n",
      "Epoch 26/40\n",
      "109/109 [==============================] - 0s 3ms/step - loss: 0.5197 - categorical_accuracy: 0.7723 - val_loss: 0.5650 - val_categorical_accuracy: 0.7373\n",
      "Epoch 27/40\n",
      "109/109 [==============================] - 0s 3ms/step - loss: 0.4953 - categorical_accuracy: 0.7830 - val_loss: 0.5687 - val_categorical_accuracy: 0.7270\n",
      "Epoch 28/40\n",
      "109/109 [==============================] - 0s 4ms/step - loss: 0.4967 - categorical_accuracy: 0.7850 - val_loss: 0.5300 - val_categorical_accuracy: 0.7581\n",
      "Epoch 29/40\n",
      "109/109 [==============================] - 0s 4ms/step - loss: 0.5052 - categorical_accuracy: 0.7818 - val_loss: 0.6315 - val_categorical_accuracy: 0.7385\n",
      "Epoch 30/40\n",
      "109/109 [==============================] - 0s 4ms/step - loss: 0.4911 - categorical_accuracy: 0.7781 - val_loss: 0.5917 - val_categorical_accuracy: 0.7385\n",
      "Epoch 31/40\n",
      "109/109 [==============================] - 0s 3ms/step - loss: 0.4986 - categorical_accuracy: 0.7870 - val_loss: 0.5531 - val_categorical_accuracy: 0.7477\n",
      "Epoch 32/40\n",
      "109/109 [==============================] - 0s 4ms/step - loss: 0.5025 - categorical_accuracy: 0.7841 - val_loss: 0.5678 - val_categorical_accuracy: 0.7419\n"
     ]
    },
    {
     "data": {
      "text/plain": [
       "<tensorflow.python.keras.callbacks.History at 0x7f16ec3159b0>"
      ]
     },
     "execution_count": 336,
     "metadata": {},
     "output_type": "execute_result"
    }
   ],
   "source": [
    "from tensorflow.keras import callbacks\n",
    "early_stopping = callbacks.EarlyStopping(\n",
    "    min_delta=0.001, # minimium amount of change to count as an improvement\n",
    "    patience=8, # how many epochs to wait before stopping\n",
    "    restore_best_weights=True,\n",
    ")\n",
    "model = Sequential()\n",
    "\n",
    "\n",
    "model.add(Dense(40, input_dim=X_scaled.shape[1], activation=\"relu\"))\n",
    "model.add(Dense(20, activation=\"relu\"))\n",
    "model.add(Dense(20, activation=\"relu\"))\n",
    "model.add(Dense(5, activation='softmax'))\n",
    "\n",
    "model.compile(\n",
    "    loss = tf.keras.losses.CategoricalCrossentropy(),\n",
    "    optimizer = tf.optimizers.Adam(0.01),\n",
    "    metrics = [tf.keras.metrics.CategoricalAccuracy()]\n",
    ")\n",
    "\n",
    "model.fit(X_train, y_train, validation_split=0.2,callbacks=[early_stopping], verbose=1, batch_size=32, epochs=40)\n",
    "\n",
    "\n",
    "#kf = KFold(n_splits=5, shuffle=True, random_state=2021)\n",
    "\n",
    "#model = KerasRegressor(build_fn=build_model, epochs=5, batch_size=32)\n",
    "#grid_search = GridSearchCV(estimator = model,\n",
    "#                           param_grid = TUNING_DICT,\n",
    "#                           cv = kf,\n",
    "#                           scoring = 'neg_mean_absolute_error',\n",
    "#                           refit = 'True',\n",
    "#                           verbose = 1)  \n",
    "#grid_search.fit(X_train, y_train, validation_split=0.2, verbose=1)"
   ]
  },
  {
   "cell_type": "code",
   "execution_count": 337,
   "metadata": {},
   "outputs": [
    {
     "data": {
      "text/plain": [
       "'  #summarize results\\n pint(\"Best: %f using %s\" % (grid_search.best_score_, grid_search.best_params_))\\nmeans = grid_search.cv_results_[\\'mean_test_score\\']\\nstds = grid_search.cv_results_[\\'std_test_score\\']\\nparams = grid_search.cv_results_[\\'params\\']\\nfor mean, stdev, param in zip(means, stds, params):\\n    print(\"%f (%f) with: %r\" % (mean, stdev, param)) \\n\\nmodel.summary() '"
      ]
     },
     "execution_count": 337,
     "metadata": {},
     "output_type": "execute_result"
    }
   ],
   "source": [
    "\"\"\"  #summarize results\n",
    " pint(\"Best: %f using %s\" % (grid_search.best_score_, grid_search.best_params_))\n",
    "means = grid_search.cv_results_['mean_test_score']\n",
    "stds = grid_search.cv_results_['std_test_score']\n",
    "params = grid_search.cv_results_['params']\n",
    "for mean, stdev, param in zip(means, stds, params):\n",
    "    print(\"%f (%f) with: %r\" % (mean, stdev, param)) \n",
    "\n",
    "model.summary() \"\"\""
   ]
  },
  {
   "cell_type": "code",
   "execution_count": 338,
   "metadata": {},
   "outputs": [],
   "source": [
    "#Our best model (remeber we set refit=True?)\n",
    "#best_mlp_model = grid_search.best_estimator_"
   ]
  },
  {
   "cell_type": "code",
   "execution_count": 339,
   "metadata": {},
   "outputs": [],
   "source": [
    "from sklearn.metrics import confusion_matrix, ConfusionMatrixDisplay"
   ]
  },
  {
   "cell_type": "code",
   "execution_count": 340,
   "metadata": {},
   "outputs": [
    {
     "data": {
      "image/png": "[encoded data removed]",
      "text/plain": [
       "<Figure size 576x288 with 1 Axes>"
      ]
     },
     "metadata": {
      "needs_background": "light"
     },
     "output_type": "display_data"
    }
   ],
   "source": [
    "#Did the model overfit?\n",
    "def plot_learning_curve(history, metric='neg_mean_absolte_error'):\n",
    "    plt.figure(figsize=(8,4))\n",
    "    plt.title('Training Loss vs Validation Loss')\n",
    "    plt.plot(history.epoch, history.history['loss'], label='train')\n",
    "    plt.plot(history.epoch, history.history['val_loss'], label='val')\n",
    "    plt.ylabel('Training ' + metric)\n",
    "    plt.xlabel('Epochs')\n",
    "    plt.legend()\n",
    "\n",
    "plot_learning_curve(model.history,metric='neg_mean_absolute_error')"
   ]
  },
  {
   "cell_type": "code",
   "execution_count": 341,
   "metadata": {},
   "outputs": [],
   "source": [
    "classes = ['High','Low','Medium','None','Very_High']"
   ]
  },
  {
   "cell_type": "code",
   "execution_count": 342,
   "metadata": {},
   "outputs": [
    {
     "name": "stdout",
     "output_type": "stream",
     "text": [
      "None         694\n",
      "Medium       438\n",
      "Low          419\n",
      "High         253\n",
      "Very_High     56\n",
      "Name: 0, dtype: int64\n",
      "Got right0.9556989247311828\n",
      "High\n"
     ]
    }
   ],
   "source": [
    "#Obtain predictions\n",
    "predictions = model.predict(X_test)\n",
    "#predicted_classes = classes[np.argmax(predictions)]\n",
    "predictions_classes = np.empty(predictions.size,dtype='object')\n",
    "for i, prediction in enumerate(predictions):\n",
    "    predictions_classes[i] = classes[np.argmax(prediction)]\n",
    "\n",
    "y_test_classes = np.empty(y_test.size,dtype='object')\n",
    "for i, val in enumerate(y_test.to_numpy()):\n",
    "    y_test_classes[i] = classes[np.argmax(val)]\n",
    "y_test_classes\n",
    "\n",
    "#print(y_test.head())\n",
    "\n",
    "pred_df = pd.DataFrame(predictions_classes)\n",
    "count_right = 0\n",
    "print(pred_df[0].value_counts())\n",
    "for i in range(pred_df.size):\n",
    "    if(predictions_classes[i] == y_test_classes[i]):\n",
    "        count_right = count_right + 1\n",
    "\n",
    "print(\"Got right\" + str(count_right/pred_df.size))\n",
    "print(predictions_classes[2])"
   ]
  },
  {
   "cell_type": "code",
   "execution_count": 343,
   "metadata": {},
   "outputs": [
    {
     "data": {
      "text/html": [
       "<div>\n",
       "<style scoped>\n",
       "    .dataframe tbody tr th:only-of-type {\n",
       "        vertical-align: middle;\n",
       "    }\n",
       "\n",
       "    .dataframe tbody tr th {\n",
       "        vertical-align: top;\n",
       "    }\n",
       "\n",
       "    .dataframe thead th {\n",
       "        text-align: right;\n",
       "    }\n",
       "</style>\n",
       "<table border=\"1\" class=\"dataframe\">\n",
       "  <thead>\n",
       "    <tr style=\"text-align: right;\">\n",
       "      <th></th>\n",
       "      <th>AVERAGE_SPEED_DIFF_High</th>\n",
       "      <th>AVERAGE_SPEED_DIFF_Low</th>\n",
       "      <th>AVERAGE_SPEED_DIFF_Medium</th>\n",
       "      <th>AVERAGE_SPEED_DIFF_None</th>\n",
       "      <th>AVERAGE_SPEED_DIFF_Very_High</th>\n",
       "    </tr>\n",
       "  </thead>\n",
       "  <tbody>\n",
       "    <tr>\n",
       "      <th>53</th>\n",
       "      <td>0.0</td>\n",
       "      <td>0.0</td>\n",
       "      <td>0.0</td>\n",
       "      <td>1.0</td>\n",
       "      <td>0.0</td>\n",
       "    </tr>\n",
       "    <tr>\n",
       "      <th>5838</th>\n",
       "      <td>0.0</td>\n",
       "      <td>0.0</td>\n",
       "      <td>0.0</td>\n",
       "      <td>1.0</td>\n",
       "      <td>0.0</td>\n",
       "    </tr>\n",
       "    <tr>\n",
       "      <th>2205</th>\n",
       "      <td>0.0</td>\n",
       "      <td>0.0</td>\n",
       "      <td>1.0</td>\n",
       "      <td>0.0</td>\n",
       "      <td>0.0</td>\n",
       "    </tr>\n",
       "    <tr>\n",
       "      <th>5741</th>\n",
       "      <td>0.0</td>\n",
       "      <td>0.0</td>\n",
       "      <td>0.0</td>\n",
       "      <td>1.0</td>\n",
       "      <td>0.0</td>\n",
       "    </tr>\n",
       "    <tr>\n",
       "      <th>4588</th>\n",
       "      <td>0.0</td>\n",
       "      <td>1.0</td>\n",
       "      <td>0.0</td>\n",
       "      <td>0.0</td>\n",
       "      <td>0.0</td>\n",
       "    </tr>\n",
       "    <tr>\n",
       "      <th>...</th>\n",
       "      <td>...</td>\n",
       "      <td>...</td>\n",
       "      <td>...</td>\n",
       "      <td>...</td>\n",
       "      <td>...</td>\n",
       "    </tr>\n",
       "    <tr>\n",
       "      <th>3966</th>\n",
       "      <td>0.0</td>\n",
       "      <td>1.0</td>\n",
       "      <td>0.0</td>\n",
       "      <td>0.0</td>\n",
       "      <td>0.0</td>\n",
       "    </tr>\n",
       "    <tr>\n",
       "      <th>1838</th>\n",
       "      <td>0.0</td>\n",
       "      <td>0.0</td>\n",
       "      <td>0.0</td>\n",
       "      <td>1.0</td>\n",
       "      <td>0.0</td>\n",
       "    </tr>\n",
       "    <tr>\n",
       "      <th>886</th>\n",
       "      <td>0.0</td>\n",
       "      <td>0.0</td>\n",
       "      <td>0.0</td>\n",
       "      <td>1.0</td>\n",
       "      <td>0.0</td>\n",
       "    </tr>\n",
       "    <tr>\n",
       "      <th>2236</th>\n",
       "      <td>1.0</td>\n",
       "      <td>0.0</td>\n",
       "      <td>0.0</td>\n",
       "      <td>0.0</td>\n",
       "      <td>0.0</td>\n",
       "    </tr>\n",
       "    <tr>\n",
       "      <th>57</th>\n",
       "      <td>1.0</td>\n",
       "      <td>0.0</td>\n",
       "      <td>0.0</td>\n",
       "      <td>0.0</td>\n",
       "      <td>0.0</td>\n",
       "    </tr>\n",
       "  </tbody>\n",
       "</table>\n",
       "<p>1860 rows × 5 columns</p>\n",
       "</div>"
      ],
      "text/plain": [
       "      AVERAGE_SPEED_DIFF_High  AVERAGE_SPEED_DIFF_Low  \\\n",
       "53                        0.0                     0.0   \n",
       "5838                      0.0                     0.0   \n",
       "2205                      0.0                     0.0   \n",
       "5741                      0.0                     0.0   \n",
       "4588                      0.0                     1.0   \n",
       "...                       ...                     ...   \n",
       "3966                      0.0                     1.0   \n",
       "1838                      0.0                     0.0   \n",
       "886                       0.0                     0.0   \n",
       "2236                      1.0                     0.0   \n",
       "57                        1.0                     0.0   \n",
       "\n",
       "      AVERAGE_SPEED_DIFF_Medium  AVERAGE_SPEED_DIFF_None  \\\n",
       "53                          0.0                      1.0   \n",
       "5838                        0.0                      1.0   \n",
       "2205                        1.0                      0.0   \n",
       "5741                        0.0                      1.0   \n",
       "4588                        0.0                      0.0   \n",
       "...                         ...                      ...   \n",
       "3966                        0.0                      0.0   \n",
       "1838                        0.0                      1.0   \n",
       "886                         0.0                      1.0   \n",
       "2236                        0.0                      0.0   \n",
       "57                          0.0                      0.0   \n",
       "\n",
       "      AVERAGE_SPEED_DIFF_Very_High  \n",
       "53                             0.0  \n",
       "5838                           0.0  \n",
       "2205                           0.0  \n",
       "5741                           0.0  \n",
       "4588                           0.0  \n",
       "...                            ...  \n",
       "3966                           0.0  \n",
       "1838                           0.0  \n",
       "886                            0.0  \n",
       "2236                           0.0  \n",
       "57                             0.0  \n",
       "\n",
       "[1860 rows x 5 columns]"
      ]
     },
     "execution_count": 343,
     "metadata": {},
     "output_type": "execute_result"
    }
   ],
   "source": [
    "from sklearn import metrics\n",
    "y_test"
   ]
  },
  {
   "cell_type": "code",
   "execution_count": 344,
   "metadata": {},
   "outputs": [
    {
     "data": {
      "text/plain": [
       "0.7784946"
      ]
     },
     "execution_count": 344,
     "metadata": {},
     "output_type": "execute_result"
    }
   ],
   "source": [
    "acc = tf.keras.metrics.CategoricalAccuracy()\n",
    "\n",
    "acc.update_state(y_test.to_numpy(),predictions)\n",
    "acc.result().numpy()"
   ]
  },
  {
   "cell_type": "code",
   "execution_count": 345,
   "metadata": {},
   "outputs": [],
   "source": [
    "predictions = (predictions > 0.5) \n",
    "cm = confusion_matrix(\n",
    "    y_test.values.argmax(axis=1), predictions.argmax(axis=1))"
   ]
  },
  {
   "cell_type": "code",
   "execution_count": 346,
   "metadata": {},
   "outputs": [],
   "source": [
    "disp = ConfusionMatrixDisplay(confusion_matrix=cm)"
   ]
  },
  {
   "cell_type": "code",
   "execution_count": 347,
   "metadata": {},
   "outputs": [
    {
     "data": {
      "text/plain": [
       "<sklearn.metrics._plot.confusion_matrix.ConfusionMatrixDisplay at 0x7f16ec068b00>"
      ]
     },
     "execution_count": 347,
     "metadata": {},
     "output_type": "execute_result"
    },
    {
     "data": {
      "image/png": "[encoded data removed]",
      "text/plain": [
       "<Figure size 432x288 with 2 Axes>"
      ]
     },
     "metadata": {
      "needs_background": "light"
     },
     "output_type": "display_data"
    }
   ],
   "source": [
    "disp.plot()"
   ]
  },
  {
   "cell_type": "code",
   "execution_count": 348,
   "metadata": {},
   "outputs": [
    {
     "data": {
      "text/plain": [
       "' f = open(\"output.csv\",\"w\")\\nf.write(\"RowId,Speed_Diff\")\\n\\ndata_output = pd.DataFrame()\\ndata_output.index += 1\\ndata_output.loc[data_output[0] == 2, 0] = \\'Medium\\'\\ndata_output.loc[data_output[0] == 0, 0] = \\'High\\'\\ndata_output.loc[data_output[0] == 1, 0] = \\'Low\\'\\ndata_output.loc[data_output[0] == 3, 0] = \\'None\\'\\ndata_output.loc[data_output[0] == 4, 0] = \\'Very_High\\'\\ndata_output.to_csv(\"output.csv\",header=[\"Speed_Diff\"],index_label=\"RowId\",) '"
      ]
     },
     "execution_count": 348,
     "metadata": {},
     "output_type": "execute_result"
    }
   ],
   "source": [
    "\"\"\" f = open(\"output.csv\",\"w\")\n",
    "f.write(\"RowId,Speed_Diff\")\n",
    "\n",
    "data_output = pd.DataFrame()\n",
    "data_output.index += 1\n",
    "data_output.loc[data_output[0] == 2, 0] = 'Medium'\n",
    "data_output.loc[data_output[0] == 0, 0] = 'High'\n",
    "data_output.loc[data_output[0] == 1, 0] = 'Low'\n",
    "data_output.loc[data_output[0] == 3, 0] = 'None'\n",
    "data_output.loc[data_output[0] == 4, 0] = 'Very_High'\n",
    "data_output.to_csv(\"output.csv\",header=[\"Speed_Diff\"],index_label=\"RowId\",) \"\"\""
   ]
  }
 ],
 "metadata": {
  "interpreter": {
   "hash": "977abe40e215e2781cdb74c9ed04c95379f527b352c788ef68f4021e57332369"
  },
  "kernelspec": {
   "display_name": "Python 3.6.13 64-bit ('envDAA': conda)",
   "language": "python",
   "name": "python3"
  },
  "language_info": {
   "codemirror_mode": {
    "name": "ipython",
    "version": 3
   },
   "file_extension": ".py",
   "mimetype": "text/x-python",
   "name": "python",
   "nbconvert_exporter": "python",
   "pygments_lexer": "ipython3",
   "version": "3.7.11"
  },
  "orig_nbformat": 4
 },
 "nbformat": 4,
 "nbformat_minor": 2
}
